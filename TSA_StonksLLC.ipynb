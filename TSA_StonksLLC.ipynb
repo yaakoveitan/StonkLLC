{
 "cells": [
  {
   "cell_type": "code",
   "execution_count": 24,
   "id": "7b0ba792",
   "metadata": {},
   "outputs": [],
   "source": [
    "import pandas as pd\n",
    "import sklearn\n",
    "import yfinance as yf\n",
    "import statsmodels.tsa \n",
    "%matplotlib inline"
   ]
  },
  {
   "cell_type": "code",
   "execution_count": 25,
   "id": "cb2a5e79",
   "metadata": {},
   "outputs": [
    {
     "name": "stdout",
     "output_type": "stream",
     "text": [
      "[*********************100%***********************]  1 of 1 completed\n"
     ]
    }
   ],
   "source": [
    "stock_info = yf.download(tickers = 'aapl', period =\"5y\",interval=\"1d\", auto_adjust = True)"
   ]
  },
  {
   "cell_type": "code",
   "execution_count": 26,
   "id": "ea3a1f2a",
   "metadata": {},
   "outputs": [
    {
     "data": {
      "text/plain": [
       "DatetimeIndex(['2017-10-26 00:00:00-04:00', '2017-10-27 00:00:00-04:00',\n",
       "               '2017-10-30 00:00:00-04:00', '2017-10-31 00:00:00-04:00',\n",
       "               '2017-11-01 00:00:00-04:00', '2017-11-02 00:00:00-04:00',\n",
       "               '2017-11-03 00:00:00-04:00', '2017-11-06 00:00:00-05:00',\n",
       "               '2017-11-07 00:00:00-05:00', '2017-11-08 00:00:00-05:00',\n",
       "               ...\n",
       "               '2022-10-13 00:00:00-04:00', '2022-10-14 00:00:00-04:00',\n",
       "               '2022-10-17 00:00:00-04:00', '2022-10-18 00:00:00-04:00',\n",
       "               '2022-10-19 00:00:00-04:00', '2022-10-20 00:00:00-04:00',\n",
       "               '2022-10-21 00:00:00-04:00', '2022-10-24 00:00:00-04:00',\n",
       "               '2022-10-25 00:00:00-04:00', '2022-10-26 00:00:00-04:00'],\n",
       "              dtype='datetime64[ns, America/New_York]', name='Date', length=1259, freq=None)"
      ]
     },
     "execution_count": 26,
     "metadata": {},
     "output_type": "execute_result"
    }
   ],
   "source": [
    "stock_info.index"
   ]
  },
  {
   "cell_type": "code",
   "execution_count": 27,
   "id": "32e97e14",
   "metadata": {},
   "outputs": [
    {
     "name": "stdout",
     "output_type": "stream",
     "text": [
      "<class 'pandas.core.frame.DataFrame'>\n",
      "DatetimeIndex: 1259 entries, 2017-10-26 00:00:00-04:00 to 2022-10-26 00:00:00-04:00\n",
      "Data columns (total 5 columns):\n",
      " #   Column  Non-Null Count  Dtype  \n",
      "---  ------  --------------  -----  \n",
      " 0   Open    1259 non-null   float64\n",
      " 1   High    1259 non-null   float64\n",
      " 2   Low     1259 non-null   float64\n",
      " 3   Close   1259 non-null   float64\n",
      " 4   Volume  1259 non-null   int64  \n",
      "dtypes: float64(4), int64(1)\n",
      "memory usage: 59.0 KB\n"
     ]
    }
   ],
   "source": [
    "stock_info.info()"
   ]
  },
  {
   "cell_type": "code",
   "execution_count": 28,
   "id": "f30424af",
   "metadata": {},
   "outputs": [],
   "source": [
    "stock_info.drop(columns=[\"High\",\"Low\",\"Open\",\"Volume\"], inplace=True)"
   ]
  },
  {
   "cell_type": "code",
   "execution_count": 29,
   "id": "5f16812c",
   "metadata": {},
   "outputs": [
    {
     "data": {
      "text/html": [
       "<div>\n",
       "<style scoped>\n",
       "    .dataframe tbody tr th:only-of-type {\n",
       "        vertical-align: middle;\n",
       "    }\n",
       "\n",
       "    .dataframe tbody tr th {\n",
       "        vertical-align: top;\n",
       "    }\n",
       "\n",
       "    .dataframe thead th {\n",
       "        text-align: right;\n",
       "    }\n",
       "</style>\n",
       "<table border=\"1\" class=\"dataframe\">\n",
       "  <thead>\n",
       "    <tr style=\"text-align: right;\">\n",
       "      <th></th>\n",
       "      <th>Close</th>\n",
       "    </tr>\n",
       "    <tr>\n",
       "      <th>Date</th>\n",
       "      <th></th>\n",
       "    </tr>\n",
       "  </thead>\n",
       "  <tbody>\n",
       "    <tr>\n",
       "      <th>2017-10-26 00:00:00-04:00</th>\n",
       "      <td>37.348106</td>\n",
       "    </tr>\n",
       "    <tr>\n",
       "      <th>2017-10-27 00:00:00-04:00</th>\n",
       "      <td>38.686283</td>\n",
       "    </tr>\n",
       "    <tr>\n",
       "      <th>2017-10-30 00:00:00-04:00</th>\n",
       "      <td>39.557049</td>\n",
       "    </tr>\n",
       "    <tr>\n",
       "      <th>2017-10-31 00:00:00-04:00</th>\n",
       "      <td>40.107494</td>\n",
       "    </tr>\n",
       "    <tr>\n",
       "      <th>2017-11-01 00:00:00-04:00</th>\n",
       "      <td>39.597378</td>\n",
       "    </tr>\n",
       "  </tbody>\n",
       "</table>\n",
       "</div>"
      ],
      "text/plain": [
       "                               Close\n",
       "Date                                \n",
       "2017-10-26 00:00:00-04:00  37.348106\n",
       "2017-10-27 00:00:00-04:00  38.686283\n",
       "2017-10-30 00:00:00-04:00  39.557049\n",
       "2017-10-31 00:00:00-04:00  40.107494\n",
       "2017-11-01 00:00:00-04:00  39.597378"
      ]
     },
     "execution_count": 29,
     "metadata": {},
     "output_type": "execute_result"
    }
   ],
   "source": [
    "stock_info.head()"
   ]
  },
  {
   "cell_type": "code",
   "execution_count": 52,
   "id": "bb579085",
   "metadata": {},
   "outputs": [],
   "source": [
    "stock_info = stock_info.asfreq(\"b\")\n",
    "stock_info = stock_info.fillna(method='ffill')\n",
    "stock_info= stock_info.iloc[1:]"
   ]
  },
  {
   "cell_type": "code",
   "execution_count": 50,
   "id": "c2e433f3",
   "metadata": {},
   "outputs": [
    {
     "data": {
      "text/plain": [
       "DatetimeIndex(['2017-10-26 00:00:00-04:00', '2017-10-27 00:00:00-04:00',\n",
       "               '2017-10-30 00:00:00-04:00', '2017-10-31 00:00:00-04:00',\n",
       "               '2017-11-01 00:00:00-04:00', '2017-11-02 00:00:00-04:00',\n",
       "               '2017-11-03 00:00:00-04:00', '2017-11-06 00:00:00-05:00',\n",
       "               '2017-11-07 00:00:00-05:00', '2017-11-08 00:00:00-05:00',\n",
       "               ...\n",
       "               '2022-10-13 00:00:00-04:00', '2022-10-14 00:00:00-04:00',\n",
       "               '2022-10-17 00:00:00-04:00', '2022-10-18 00:00:00-04:00',\n",
       "               '2022-10-19 00:00:00-04:00', '2022-10-20 00:00:00-04:00',\n",
       "               '2022-10-21 00:00:00-04:00', '2022-10-24 00:00:00-04:00',\n",
       "               '2022-10-25 00:00:00-04:00', '2022-10-26 00:00:00-04:00'],\n",
       "              dtype='datetime64[ns, America/New_York]', name='Date', length=1305, freq='B')"
      ]
     },
     "execution_count": 50,
     "metadata": {},
     "output_type": "execute_result"
    }
   ],
   "source": []
  },
  {
   "cell_type": "code",
   "execution_count": 53,
   "id": "baa18d99",
   "metadata": {},
   "outputs": [
    {
     "data": {
      "text/plain": [
       "<AxesSubplot: xlabel='Date'>"
      ]
     },
     "execution_count": 53,
     "metadata": {},
     "output_type": "execute_result"
    },
    {
     "data": {
      "image/png": "[encoded data removed]",
      "text/plain": [
       "<Figure size 864x360 with 1 Axes>"
      ]
     },
     "metadata": {
      "needs_background": "light"
     },
     "output_type": "display_data"
    }
   ],
   "source": [
    "stock_info.plot(figsize = (12,5))"
   ]
  },
  {
   "cell_type": "code",
   "execution_count": 54,
   "id": "55edf513",
   "metadata": {},
   "outputs": [],
   "source": [
    "from statsmodels.tsa.seasonal import seasonal_decompose"
   ]
  },
  {
   "cell_type": "code",
   "execution_count": 70,
   "id": "a1d913e9",
   "metadata": {},
   "outputs": [
    {
     "ename": "ValueError",
     "evalue": "You must specify a period or x must be a pandas object with a PeriodIndex or a DatetimeIndex with a freq not set to None",
     "output_type": "error",
     "traceback": [
      "\u001b[0;31m---------------------------------------------------------------------------\u001b[0m",
      "\u001b[0;31mValueError\u001b[0m                                Traceback (most recent call last)",
      "Input \u001b[0;32mIn [70]\u001b[0m, in \u001b[0;36m<cell line: 1>\u001b[0;34m()\u001b[0m\n\u001b[0;32m----> 1\u001b[0m results \u001b[38;5;241m=\u001b[39m \u001b[43mseasonal_decompose\u001b[49m\u001b[43m(\u001b[49m\u001b[43mstock_info\u001b[49m\u001b[43m,\u001b[49m\u001b[43m \u001b[49m\u001b[43mmodel\u001b[49m\u001b[43m \u001b[49m\u001b[38;5;241;43m=\u001b[39;49m\u001b[43m \u001b[49m\u001b[38;5;124;43m\"\u001b[39;49m\u001b[38;5;124;43mmultiplicative\u001b[39;49m\u001b[38;5;124;43m\"\u001b[39;49m\u001b[43m)\u001b[49m\n\u001b[1;32m      2\u001b[0m results\u001b[38;5;241m.\u001b[39mplot()\n",
      "File \u001b[0;32m/Library/Frameworks/Python.framework/Versions/3.9/lib/python3.9/site-packages/statsmodels/tsa/seasonal.py:159\u001b[0m, in \u001b[0;36mseasonal_decompose\u001b[0;34m(x, model, filt, period, two_sided, extrapolate_trend)\u001b[0m\n\u001b[1;32m    157\u001b[0m         period \u001b[38;5;241m=\u001b[39m pfreq\n\u001b[1;32m    158\u001b[0m     \u001b[38;5;28;01melse\u001b[39;00m:\n\u001b[0;32m--> 159\u001b[0m         \u001b[38;5;28;01mraise\u001b[39;00m \u001b[38;5;167;01mValueError\u001b[39;00m(\n\u001b[1;32m    160\u001b[0m             \u001b[38;5;124m\"\u001b[39m\u001b[38;5;124mYou must specify a period or x must be a pandas object with \u001b[39m\u001b[38;5;124m\"\u001b[39m\n\u001b[1;32m    161\u001b[0m             \u001b[38;5;124m\"\u001b[39m\u001b[38;5;124ma PeriodIndex or a DatetimeIndex with a freq not set to None\u001b[39m\u001b[38;5;124m\"\u001b[39m\n\u001b[1;32m    162\u001b[0m         )\n\u001b[1;32m    163\u001b[0m \u001b[38;5;28;01mif\u001b[39;00m x\u001b[38;5;241m.\u001b[39mshape[\u001b[38;5;241m0\u001b[39m] \u001b[38;5;241m<\u001b[39m \u001b[38;5;241m2\u001b[39m \u001b[38;5;241m*\u001b[39m pfreq:\n\u001b[1;32m    164\u001b[0m     \u001b[38;5;28;01mraise\u001b[39;00m \u001b[38;5;167;01mValueError\u001b[39;00m(\n\u001b[1;32m    165\u001b[0m         \u001b[38;5;124mf\u001b[39m\u001b[38;5;124m\"\u001b[39m\u001b[38;5;124mx must have 2 complete cycles requires \u001b[39m\u001b[38;5;132;01m{\u001b[39;00m\u001b[38;5;241m2\u001b[39m \u001b[38;5;241m*\u001b[39m pfreq\u001b[38;5;132;01m}\u001b[39;00m\u001b[38;5;124m \u001b[39m\u001b[38;5;124m\"\u001b[39m\n\u001b[1;32m    166\u001b[0m         \u001b[38;5;124mf\u001b[39m\u001b[38;5;124m\"\u001b[39m\u001b[38;5;124mobservations. x only has \u001b[39m\u001b[38;5;132;01m{\u001b[39;00mx\u001b[38;5;241m.\u001b[39mshape[\u001b[38;5;241m0\u001b[39m]\u001b[38;5;132;01m}\u001b[39;00m\u001b[38;5;124m observation(s)\u001b[39m\u001b[38;5;124m\"\u001b[39m\n\u001b[1;32m    167\u001b[0m     )\n",
      "\u001b[0;31mValueError\u001b[0m: You must specify a period or x must be a pandas object with a PeriodIndex or a DatetimeIndex with a freq not set to None"
     ]
    }
   ],
   "source": [
    "results = seasonal_decompose(stock_info, model = \"multiplicative\")\n",
    "results.plot()"
   ]
  },
  {
   "cell_type": "code",
   "execution_count": null,
   "id": "0832d014",
   "metadata": {},
   "outputs": [],
   "source": []
  }
 ],
 "metadata": {
  "kernelspec": {
   "display_name": "Python 3 (ipykernel)",
   "language": "python",
   "name": "python3"
  },
  "language_info": {
   "codemirror_mode": {
    "name": "ipython",
    "version": 3
   },
   "file_extension": ".py",
   "mimetype": "text/x-python",
   "name": "python",
   "nbconvert_exporter": "python",
   "pygments_lexer": "ipython3",
   "version": "3.9.5"
  }
 },
 "nbformat": 4,
 "nbformat_minor": 5
}
