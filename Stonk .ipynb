{
 "cells": [
  {
   "cell_type": "code",
   "execution_count": 243,
   "id": "dcfdb21d",
   "metadata": {},
   "outputs": [],
   "source": [
    "import pandas as pd\n",
    "import numpy as np\n",
    "import matplotlib.pyplot as plt\n",
    "%matplotlib inline\n",
    "import seaborn as sns\n",
    "sns.set()\n",
    "\n",
    "from sklearn.preprocessing import StandardScaler\n",
    "from sklearn.model_selection import train_test_split\n",
    "from sklearn.linear_model import LogisticRegression, LinearRegression\n",
    "from sklearn.ensemble import RandomForestClassifier, RandomForestRegressor\n",
    "from sklearn.tree import DecisionTreeClassifier,DecisionTreeRegressor\n",
    "from sklearn.svm import SVC\n",
    "from sklearn import metrics\n",
    "from sklearn.model_selection import GridSearchCV\n",
    "from sklearn.neighbors import KNeighborsRegressor, KNeighborsClassifier\n",
    "\n",
    "import scipy.stats as stats"
   ]
  },
  {
   "cell_type": "code",
   "execution_count": 244,
   "id": "e7b85b9b",
   "metadata": {},
   "outputs": [
    {
     "data": {
      "text/plain": [
       "50560"
      ]
     },
     "execution_count": 244,
     "metadata": {},
     "output_type": "execute_result"
    }
   ],
   "source": [
    "df = pd.read_csv('stock fundamental data.csv')\n",
    "df.head()\n",
    "len(df)"
   ]
  },
  {
   "cell_type": "markdown",
   "id": "7d25a629",
   "metadata": {},
   "source": [
    "# Preprocessing data\n"
   ]
  },
  {
   "cell_type": "code",
   "execution_count": 245,
   "id": "e4fbe527",
   "metadata": {},
   "outputs": [
    {
     "data": {
      "text/plain": [
       "gvkey          0\n",
       "tic            0\n",
       "fyear         51\n",
       "indfmt         0\n",
       "consol         0\n",
       "popsrc         0\n",
       "datafmt        0\n",
       "curcd         51\n",
       "act        21788\n",
       "ap         10863\n",
       "at          6722\n",
       "ceq         6843\n",
       "che        13777\n",
       "cogs       13868\n",
       "dlc         7086\n",
       "dlcch      31465\n",
       "dltt        6884\n",
       "dp          9347\n",
       "dvc         7149\n",
       "ib          6821\n",
       "intan       7427\n",
       "invt       12160\n",
       "ivao       15275\n",
       "lct        21720\n",
       "lt          6792\n",
       "nopio      17628\n",
       "ppent       8714\n",
       "rect       14032\n",
       "sale       13865\n",
       "spi         7300\n",
       "txp        15200\n",
       "txt         6826\n",
       "xad        35615\n",
       "xido        6821\n",
       "xint       12512\n",
       "xrd        31021\n",
       "xsga       19673\n",
       "costat         0\n",
       "mkvalt     14697\n",
       "dtype: int64"
      ]
     },
     "execution_count": 245,
     "metadata": {},
     "output_type": "execute_result"
    }
   ],
   "source": [
    "# check for any null values in market value \n",
    "df.isnull().sum()"
   ]
  },
  {
   "cell_type": "code",
   "execution_count": 246,
   "id": "22b9450e",
   "metadata": {},
   "outputs": [],
   "source": [
    "#create column 'future mkvalt' that holds the market value of the next year\n",
    "condition1 = df['tic'].shift(-1) == df['tic']\n",
    "condition2 = df['fyear'].shift(-1) == df['fyear'] + 1\n",
    "df['future_mkvalt'] = np.where(condition1 & condition2, df['mkvalt'].shift(-1), np.nan)\n",
    "\n",
    "#drop nulls\n",
    "df = df.dropna(subset=['mkvalt', 'future_mkvalt'], how='all')\n",
    "\n",
    "#percent change is the percent change in market value from one year to the next\n",
    "df['percent_change'] = (df['future_mkvalt']-df['mkvalt'])/df['mkvalt']\n",
    "\n",
    "#if percent change is greater than 20%, classify as undervalued\n",
    "df['undervalued'] = (df['percent_change'] > 0.10)"
   ]
  },
  {
   "cell_type": "code",
   "execution_count": 247,
   "id": "58d85bee",
   "metadata": {},
   "outputs": [],
   "source": [
    "#fill null expenses with 0\n",
    "df['xrd'] = df['xrd'].fillna(0)\n",
    "df['xad'] = df['xad'].fillna(0)\n",
    "df['xsga'] = df['xsga'].fillna(0)\n",
    "df['xint'] = df['xint'].fillna(0)\n",
    "df['dlcch'] = df['dlcch'].fillna(0)\n",
    "\n",
    "\n",
    "\n",
    "#combine all expenses columns into one column\n",
    "expenses_list = ['xrd', 'xad', 'xsga', 'xint', 'nopio', 'cogs']\n",
    "df['expenses'] = df[expenses_list].sum(axis=1)\n",
    "\n",
    "df = df.drop(columns=expenses_list)\n",
    "\n",
    "#delete duplicate rows due to formatting\n",
    "condition = df['indfmt'] != \"FS\"\n",
    "df = df[condition]\n",
    "\n",
    "#drop unneccessary columns\n",
    "df = df.drop(columns=['indfmt', 'consol', 'popsrc', 'datafmt', 'curcd', 'gvkey', 'costat'])\n",
    "\n",
    "\n"
   ]
  },
  {
   "cell_type": "code",
   "execution_count": 248,
   "id": "50352f49",
   "metadata": {},
   "outputs": [
    {
     "data": {
      "text/plain": [
       "tic                  0\n",
       "fyear                0\n",
       "act               7179\n",
       "ap                 277\n",
       "at                  98\n",
       "ceq                154\n",
       "che                 99\n",
       "dlc                102\n",
       "dlcch                0\n",
       "dltt               231\n",
       "dp                1619\n",
       "dvc                251\n",
       "ib                 158\n",
       "intan              538\n",
       "invt               459\n",
       "ivao              1468\n",
       "lct               7119\n",
       "lt                 148\n",
       "ppent             1258\n",
       "rect               309\n",
       "sale               157\n",
       "spi                525\n",
       "txp               4285\n",
       "txt                163\n",
       "xido               159\n",
       "mkvalt            1742\n",
       "future_mkvalt     4277\n",
       "percent_change    6019\n",
       "undervalued          0\n",
       "expenses             0\n",
       "dtype: int64"
      ]
     },
     "execution_count": 248,
     "metadata": {},
     "output_type": "execute_result"
    }
   ],
   "source": [
    "df.isnull().sum()"
   ]
  },
  {
   "cell_type": "code",
   "execution_count": 249,
   "id": "f1dc2be8",
   "metadata": {},
   "outputs": [],
   "source": [
    "#remove rows with null values\n",
    "condition = df.isnull().sum(axis=1) < 1\n",
    "df = df[condition]"
   ]
  },
  {
   "cell_type": "code",
   "execution_count": 250,
   "id": "966018e4",
   "metadata": {},
   "outputs": [
    {
     "data": {
      "text/html": [
       "<div>\n",
       "<style scoped>\n",
       "    .dataframe tbody tr th:only-of-type {\n",
       "        vertical-align: middle;\n",
       "    }\n",
       "\n",
       "    .dataframe tbody tr th {\n",
       "        vertical-align: top;\n",
       "    }\n",
       "\n",
       "    .dataframe thead th {\n",
       "        text-align: right;\n",
       "    }\n",
       "</style>\n",
       "<table border=\"1\" class=\"dataframe\">\n",
       "  <thead>\n",
       "    <tr style=\"text-align: right;\">\n",
       "      <th></th>\n",
       "      <th>tic</th>\n",
       "      <th>fyear</th>\n",
       "      <th>act</th>\n",
       "      <th>ap</th>\n",
       "      <th>at</th>\n",
       "      <th>ceq</th>\n",
       "      <th>che</th>\n",
       "      <th>dlc</th>\n",
       "      <th>dlcch</th>\n",
       "      <th>dltt</th>\n",
       "      <th>...</th>\n",
       "      <th>sale</th>\n",
       "      <th>spi</th>\n",
       "      <th>txp</th>\n",
       "      <th>txt</th>\n",
       "      <th>xido</th>\n",
       "      <th>mkvalt</th>\n",
       "      <th>future_mkvalt</th>\n",
       "      <th>percent_change</th>\n",
       "      <th>undervalued</th>\n",
       "      <th>expenses</th>\n",
       "    </tr>\n",
       "  </thead>\n",
       "  <tbody>\n",
       "    <tr>\n",
       "      <th>0</th>\n",
       "      <td>AIR</td>\n",
       "      <td>2009.0</td>\n",
       "      <td>863.429</td>\n",
       "      <td>114.906</td>\n",
       "      <td>1501.042</td>\n",
       "      <td>746.906</td>\n",
       "      <td>79.370</td>\n",
       "      <td>100.833</td>\n",
       "      <td>-4.996</td>\n",
       "      <td>336.191</td>\n",
       "      <td>...</td>\n",
       "      <td>1352.151</td>\n",
       "      <td>-4.302</td>\n",
       "      <td>3.263</td>\n",
       "      <td>20.986</td>\n",
       "      <td>0.000</td>\n",
       "      <td>777.8348</td>\n",
       "      <td>1049.8206</td>\n",
       "      <td>0.349670</td>\n",
       "      <td>True</td>\n",
       "      <td>1243.600</td>\n",
       "    </tr>\n",
       "    <tr>\n",
       "      <th>1</th>\n",
       "      <td>AIR</td>\n",
       "      <td>2010.0</td>\n",
       "      <td>913.985</td>\n",
       "      <td>185.096</td>\n",
       "      <td>1703.727</td>\n",
       "      <td>835.845</td>\n",
       "      <td>57.433</td>\n",
       "      <td>114.075</td>\n",
       "      <td>54.991</td>\n",
       "      <td>329.802</td>\n",
       "      <td>...</td>\n",
       "      <td>1775.782</td>\n",
       "      <td>-1.536</td>\n",
       "      <td>0.000</td>\n",
       "      <td>35.364</td>\n",
       "      <td>-3.313</td>\n",
       "      <td>1049.8206</td>\n",
       "      <td>485.2897</td>\n",
       "      <td>-0.537740</td>\n",
       "      <td>False</td>\n",
       "      <td>1613.484</td>\n",
       "    </tr>\n",
       "    <tr>\n",
       "      <th>2</th>\n",
       "      <td>AIR</td>\n",
       "      <td>2011.0</td>\n",
       "      <td>1063.272</td>\n",
       "      <td>201.405</td>\n",
       "      <td>2195.653</td>\n",
       "      <td>864.649</td>\n",
       "      <td>67.720</td>\n",
       "      <td>122.865</td>\n",
       "      <td>0.000</td>\n",
       "      <td>669.489</td>\n",
       "      <td>...</td>\n",
       "      <td>2074.498</td>\n",
       "      <td>-13.864</td>\n",
       "      <td>0.000</td>\n",
       "      <td>25.480</td>\n",
       "      <td>0.000</td>\n",
       "      <td>485.2897</td>\n",
       "      <td>790.0029</td>\n",
       "      <td>0.627900</td>\n",
       "      <td>True</td>\n",
       "      <td>1891.119</td>\n",
       "    </tr>\n",
       "    <tr>\n",
       "      <th>3</th>\n",
       "      <td>AIR</td>\n",
       "      <td>2012.0</td>\n",
       "      <td>1033.700</td>\n",
       "      <td>149.300</td>\n",
       "      <td>2136.900</td>\n",
       "      <td>918.600</td>\n",
       "      <td>75.300</td>\n",
       "      <td>86.400</td>\n",
       "      <td>0.000</td>\n",
       "      <td>622.200</td>\n",
       "      <td>...</td>\n",
       "      <td>2167.100</td>\n",
       "      <td>-21.100</td>\n",
       "      <td>0.000</td>\n",
       "      <td>26.700</td>\n",
       "      <td>0.000</td>\n",
       "      <td>790.0029</td>\n",
       "      <td>961.3080</td>\n",
       "      <td>0.216841</td>\n",
       "      <td>True</td>\n",
       "      <td>1970.300</td>\n",
       "    </tr>\n",
       "    <tr>\n",
       "      <th>4</th>\n",
       "      <td>AIR</td>\n",
       "      <td>2013.0</td>\n",
       "      <td>1116.900</td>\n",
       "      <td>171.100</td>\n",
       "      <td>2199.500</td>\n",
       "      <td>999.500</td>\n",
       "      <td>89.200</td>\n",
       "      <td>69.700</td>\n",
       "      <td>10.000</td>\n",
       "      <td>564.300</td>\n",
       "      <td>...</td>\n",
       "      <td>2035.000</td>\n",
       "      <td>0.000</td>\n",
       "      <td>0.000</td>\n",
       "      <td>32.100</td>\n",
       "      <td>0.000</td>\n",
       "      <td>961.3080</td>\n",
       "      <td>1046.3954</td>\n",
       "      <td>0.088512</td>\n",
       "      <td>False</td>\n",
       "      <td>1824.100</td>\n",
       "    </tr>\n",
       "    <tr>\n",
       "      <th>5</th>\n",
       "      <td>AIR</td>\n",
       "      <td>2014.0</td>\n",
       "      <td>954.100</td>\n",
       "      <td>142.300</td>\n",
       "      <td>1515.000</td>\n",
       "      <td>845.100</td>\n",
       "      <td>54.700</td>\n",
       "      <td>69.000</td>\n",
       "      <td>-80.000</td>\n",
       "      <td>85.000</td>\n",
       "      <td>...</td>\n",
       "      <td>1594.300</td>\n",
       "      <td>-48.400</td>\n",
       "      <td>0.000</td>\n",
       "      <td>-28.500</td>\n",
       "      <td>64.700</td>\n",
       "      <td>1046.3954</td>\n",
       "      <td>842.5112</td>\n",
       "      <td>-0.194844</td>\n",
       "      <td>False</td>\n",
       "      <td>1537.300</td>\n",
       "    </tr>\n",
       "    <tr>\n",
       "      <th>6</th>\n",
       "      <td>AIR</td>\n",
       "      <td>2015.0</td>\n",
       "      <td>873.100</td>\n",
       "      <td>163.400</td>\n",
       "      <td>1442.100</td>\n",
       "      <td>865.800</td>\n",
       "      <td>31.200</td>\n",
       "      <td>12.000</td>\n",
       "      <td>60.000</td>\n",
       "      <td>136.100</td>\n",
       "      <td>...</td>\n",
       "      <td>1662.600</td>\n",
       "      <td>-0.400</td>\n",
       "      <td>1.100</td>\n",
       "      <td>18.800</td>\n",
       "      <td>7.200</td>\n",
       "      <td>842.5112</td>\n",
       "      <td>1200.3288</td>\n",
       "      <td>0.424704</td>\n",
       "      <td>True</td>\n",
       "      <td>1531.800</td>\n",
       "    </tr>\n",
       "    <tr>\n",
       "      <th>7</th>\n",
       "      <td>AIR</td>\n",
       "      <td>2016.0</td>\n",
       "      <td>888.500</td>\n",
       "      <td>177.400</td>\n",
       "      <td>1504.100</td>\n",
       "      <td>914.200</td>\n",
       "      <td>10.300</td>\n",
       "      <td>2.000</td>\n",
       "      <td>21.000</td>\n",
       "      <td>155.300</td>\n",
       "      <td>...</td>\n",
       "      <td>1767.600</td>\n",
       "      <td>2.600</td>\n",
       "      <td>12.300</td>\n",
       "      <td>24.100</td>\n",
       "      <td>6.300</td>\n",
       "      <td>1200.3288</td>\n",
       "      <td>1551.4580</td>\n",
       "      <td>0.292528</td>\n",
       "      <td>True</td>\n",
       "      <td>1624.700</td>\n",
       "    </tr>\n",
       "    <tr>\n",
       "      <th>8</th>\n",
       "      <td>AIR</td>\n",
       "      <td>2017.0</td>\n",
       "      <td>942.700</td>\n",
       "      <td>170.000</td>\n",
       "      <td>1524.700</td>\n",
       "      <td>936.300</td>\n",
       "      <td>41.600</td>\n",
       "      <td>0.000</td>\n",
       "      <td>-1.000</td>\n",
       "      <td>177.200</td>\n",
       "      <td>...</td>\n",
       "      <td>1748.300</td>\n",
       "      <td>0.000</td>\n",
       "      <td>0.000</td>\n",
       "      <td>3.500</td>\n",
       "      <td>-58.100</td>\n",
       "      <td>1551.4580</td>\n",
       "      <td>1046.7709</td>\n",
       "      <td>-0.325299</td>\n",
       "      <td>False</td>\n",
       "      <td>1628.900</td>\n",
       "    </tr>\n",
       "    <tr>\n",
       "      <th>11</th>\n",
       "      <td>AAL</td>\n",
       "      <td>2011.0</td>\n",
       "      <td>6757.000</td>\n",
       "      <td>1007.000</td>\n",
       "      <td>23848.000</td>\n",
       "      <td>-7111.000</td>\n",
       "      <td>4739.000</td>\n",
       "      <td>1518.000</td>\n",
       "      <td>0.000</td>\n",
       "      <td>6702.000</td>\n",
       "      <td>...</td>\n",
       "      <td>24022.000</td>\n",
       "      <td>-886.000</td>\n",
       "      <td>0.000</td>\n",
       "      <td>0.000</td>\n",
       "      <td>0.000</td>\n",
       "      <td>117.3438</td>\n",
       "      <td>266.5571</td>\n",
       "      <td>1.271591</td>\n",
       "      <td>True</td>\n",
       "      <td>24332.000</td>\n",
       "    </tr>\n",
       "    <tr>\n",
       "      <th>12</th>\n",
       "      <td>AAL</td>\n",
       "      <td>2012.0</td>\n",
       "      <td>7072.000</td>\n",
       "      <td>1244.000</td>\n",
       "      <td>23510.000</td>\n",
       "      <td>-7987.000</td>\n",
       "      <td>4742.000</td>\n",
       "      <td>1419.000</td>\n",
       "      <td>0.000</td>\n",
       "      <td>7116.000</td>\n",
       "      <td>...</td>\n",
       "      <td>24855.000</td>\n",
       "      <td>-2595.000</td>\n",
       "      <td>0.000</td>\n",
       "      <td>-569.000</td>\n",
       "      <td>0.000</td>\n",
       "      <td>266.5571</td>\n",
       "      <td>6591.9923</td>\n",
       "      <td>23.730132</td>\n",
       "      <td>True</td>\n",
       "      <td>24528.000</td>\n",
       "    </tr>\n",
       "    <tr>\n",
       "      <th>13</th>\n",
       "      <td>AAL</td>\n",
       "      <td>2013.0</td>\n",
       "      <td>14323.000</td>\n",
       "      <td>1368.000</td>\n",
       "      <td>42278.000</td>\n",
       "      <td>-2731.000</td>\n",
       "      <td>10286.000</td>\n",
       "      <td>1446.000</td>\n",
       "      <td>0.000</td>\n",
       "      <td>15353.000</td>\n",
       "      <td>...</td>\n",
       "      <td>26712.000</td>\n",
       "      <td>-3402.000</td>\n",
       "      <td>0.000</td>\n",
       "      <td>-346.000</td>\n",
       "      <td>0.000</td>\n",
       "      <td>6591.9923</td>\n",
       "      <td>37405.5843</td>\n",
       "      <td>4.674397</td>\n",
       "      <td>True</td>\n",
       "      <td>24573.000</td>\n",
       "    </tr>\n",
       "    <tr>\n",
       "      <th>14</th>\n",
       "      <td>AAL</td>\n",
       "      <td>2014.0</td>\n",
       "      <td>12112.000</td>\n",
       "      <td>1377.000</td>\n",
       "      <td>43771.000</td>\n",
       "      <td>2021.000</td>\n",
       "      <td>8077.000</td>\n",
       "      <td>1708.000</td>\n",
       "      <td>0.000</td>\n",
       "      <td>16196.000</td>\n",
       "      <td>...</td>\n",
       "      <td>42650.000</td>\n",
       "      <td>-956.000</td>\n",
       "      <td>0.000</td>\n",
       "      <td>330.000</td>\n",
       "      <td>0.000</td>\n",
       "      <td>37405.5843</td>\n",
       "      <td>26452.7417</td>\n",
       "      <td>-0.292813</td>\n",
       "      <td>False</td>\n",
       "      <td>37059.000</td>\n",
       "    </tr>\n",
       "    <tr>\n",
       "      <th>15</th>\n",
       "      <td>AAL</td>\n",
       "      <td>2015.0</td>\n",
       "      <td>9985.000</td>\n",
       "      <td>1563.000</td>\n",
       "      <td>48415.000</td>\n",
       "      <td>5635.000</td>\n",
       "      <td>6949.000</td>\n",
       "      <td>2231.000</td>\n",
       "      <td>0.000</td>\n",
       "      <td>18330.000</td>\n",
       "      <td>...</td>\n",
       "      <td>40990.000</td>\n",
       "      <td>-1674.000</td>\n",
       "      <td>0.000</td>\n",
       "      <td>-2994.000</td>\n",
       "      <td>0.000</td>\n",
       "      <td>26452.7417</td>\n",
       "      <td>23685.5569</td>\n",
       "      <td>-0.104609</td>\n",
       "      <td>False</td>\n",
       "      <td>33040.000</td>\n",
       "    </tr>\n",
       "    <tr>\n",
       "      <th>16</th>\n",
       "      <td>AAL</td>\n",
       "      <td>2016.0</td>\n",
       "      <td>10324.000</td>\n",
       "      <td>1592.000</td>\n",
       "      <td>51274.000</td>\n",
       "      <td>3785.000</td>\n",
       "      <td>6997.000</td>\n",
       "      <td>1855.000</td>\n",
       "      <td>0.000</td>\n",
       "      <td>22489.000</td>\n",
       "      <td>...</td>\n",
       "      <td>40180.000</td>\n",
       "      <td>-772.000</td>\n",
       "      <td>0.000</td>\n",
       "      <td>1623.000</td>\n",
       "      <td>0.000</td>\n",
       "      <td>23685.5569</td>\n",
       "      <td>24740.6812</td>\n",
       "      <td>0.044547</td>\n",
       "      <td>False</td>\n",
       "      <td>33536.000</td>\n",
       "    </tr>\n",
       "    <tr>\n",
       "      <th>17</th>\n",
       "      <td>AAL</td>\n",
       "      <td>2017.0</td>\n",
       "      <td>9146.000</td>\n",
       "      <td>1688.000</td>\n",
       "      <td>51396.000</td>\n",
       "      <td>3926.000</td>\n",
       "      <td>5384.000</td>\n",
       "      <td>2554.000</td>\n",
       "      <td>0.000</td>\n",
       "      <td>22511.000</td>\n",
       "      <td>...</td>\n",
       "      <td>42207.000</td>\n",
       "      <td>-734.000</td>\n",
       "      <td>0.000</td>\n",
       "      <td>1165.000</td>\n",
       "      <td>0.000</td>\n",
       "      <td>24740.6812</td>\n",
       "      <td>14790.2192</td>\n",
       "      <td>-0.402190</td>\n",
       "      <td>False</td>\n",
       "      <td>36669.000</td>\n",
       "    </tr>\n",
       "    <tr>\n",
       "      <th>18</th>\n",
       "      <td>AAL</td>\n",
       "      <td>2018.0</td>\n",
       "      <td>8637.000</td>\n",
       "      <td>1773.000</td>\n",
       "      <td>60580.000</td>\n",
       "      <td>-169.000</td>\n",
       "      <td>4914.000</td>\n",
       "      <td>4948.000</td>\n",
       "      <td>0.000</td>\n",
       "      <td>29081.000</td>\n",
       "      <td>...</td>\n",
       "      <td>44541.000</td>\n",
       "      <td>-802.000</td>\n",
       "      <td>0.000</td>\n",
       "      <td>472.000</td>\n",
       "      <td>0.000</td>\n",
       "      <td>14790.2192</td>\n",
       "      <td>12280.8620</td>\n",
       "      <td>-0.169663</td>\n",
       "      <td>False</td>\n",
       "      <td>40294.000</td>\n",
       "    </tr>\n",
       "    <tr>\n",
       "      <th>20</th>\n",
       "      <td>CECE</td>\n",
       "      <td>2010.0</td>\n",
       "      <td>48.452</td>\n",
       "      <td>9.712</td>\n",
       "      <td>74.791</td>\n",
       "      <td>35.174</td>\n",
       "      <td>5.792</td>\n",
       "      <td>0.000</td>\n",
       "      <td>0.000</td>\n",
       "      <td>10.800</td>\n",
       "      <td>...</td>\n",
       "      <td>140.602</td>\n",
       "      <td>0.396</td>\n",
       "      <td>1.646</td>\n",
       "      <td>1.371</td>\n",
       "      <td>-0.200</td>\n",
       "      <td>85.3412</td>\n",
       "      <td>80.5638</td>\n",
       "      <td>-0.055980</td>\n",
       "      <td>False</td>\n",
       "      <td>135.671</td>\n",
       "    </tr>\n",
       "    <tr>\n",
       "      <th>21</th>\n",
       "      <td>CECE</td>\n",
       "      <td>2011.0</td>\n",
       "      <td>53.470</td>\n",
       "      <td>8.215</td>\n",
       "      <td>79.345</td>\n",
       "      <td>42.990</td>\n",
       "      <td>12.724</td>\n",
       "      <td>0.000</td>\n",
       "      <td>0.000</td>\n",
       "      <td>9.600</td>\n",
       "      <td>...</td>\n",
       "      <td>139.192</td>\n",
       "      <td>0.000</td>\n",
       "      <td>0.393</td>\n",
       "      <td>3.411</td>\n",
       "      <td>-0.040</td>\n",
       "      <td>80.5638</td>\n",
       "      <td>168.7421</td>\n",
       "      <td>1.094515</td>\n",
       "      <td>True</td>\n",
       "      <td>127.259</td>\n",
       "    </tr>\n",
       "    <tr>\n",
       "      <th>22</th>\n",
       "      <td>CECE</td>\n",
       "      <td>2012.0</td>\n",
       "      <td>64.321</td>\n",
       "      <td>11.098</td>\n",
       "      <td>94.104</td>\n",
       "      <td>61.994</td>\n",
       "      <td>22.994</td>\n",
       "      <td>0.000</td>\n",
       "      <td>0.000</td>\n",
       "      <td>0.000</td>\n",
       "      <td>...</td>\n",
       "      <td>135.052</td>\n",
       "      <td>-0.141</td>\n",
       "      <td>1.079</td>\n",
       "      <td>4.513</td>\n",
       "      <td>0.000</td>\n",
       "      <td>168.7421</td>\n",
       "      <td>413.2812</td>\n",
       "      <td>1.449188</td>\n",
       "      <td>True</td>\n",
       "      <td>118.183</td>\n",
       "    </tr>\n",
       "  </tbody>\n",
       "</table>\n",
       "<p>20 rows × 30 columns</p>\n",
       "</div>"
      ],
      "text/plain": [
       "     tic   fyear        act        ap         at       ceq        che  \\\n",
       "0    AIR  2009.0    863.429   114.906   1501.042   746.906     79.370   \n",
       "1    AIR  2010.0    913.985   185.096   1703.727   835.845     57.433   \n",
       "2    AIR  2011.0   1063.272   201.405   2195.653   864.649     67.720   \n",
       "3    AIR  2012.0   1033.700   149.300   2136.900   918.600     75.300   \n",
       "4    AIR  2013.0   1116.900   171.100   2199.500   999.500     89.200   \n",
       "5    AIR  2014.0    954.100   142.300   1515.000   845.100     54.700   \n",
       "6    AIR  2015.0    873.100   163.400   1442.100   865.800     31.200   \n",
       "7    AIR  2016.0    888.500   177.400   1504.100   914.200     10.300   \n",
       "8    AIR  2017.0    942.700   170.000   1524.700   936.300     41.600   \n",
       "11   AAL  2011.0   6757.000  1007.000  23848.000 -7111.000   4739.000   \n",
       "12   AAL  2012.0   7072.000  1244.000  23510.000 -7987.000   4742.000   \n",
       "13   AAL  2013.0  14323.000  1368.000  42278.000 -2731.000  10286.000   \n",
       "14   AAL  2014.0  12112.000  1377.000  43771.000  2021.000   8077.000   \n",
       "15   AAL  2015.0   9985.000  1563.000  48415.000  5635.000   6949.000   \n",
       "16   AAL  2016.0  10324.000  1592.000  51274.000  3785.000   6997.000   \n",
       "17   AAL  2017.0   9146.000  1688.000  51396.000  3926.000   5384.000   \n",
       "18   AAL  2018.0   8637.000  1773.000  60580.000  -169.000   4914.000   \n",
       "20  CECE  2010.0     48.452     9.712     74.791    35.174      5.792   \n",
       "21  CECE  2011.0     53.470     8.215     79.345    42.990     12.724   \n",
       "22  CECE  2012.0     64.321    11.098     94.104    61.994     22.994   \n",
       "\n",
       "         dlc   dlcch       dltt  ...       sale       spi     txp       txt  \\\n",
       "0    100.833  -4.996    336.191  ...   1352.151    -4.302   3.263    20.986   \n",
       "1    114.075  54.991    329.802  ...   1775.782    -1.536   0.000    35.364   \n",
       "2    122.865   0.000    669.489  ...   2074.498   -13.864   0.000    25.480   \n",
       "3     86.400   0.000    622.200  ...   2167.100   -21.100   0.000    26.700   \n",
       "4     69.700  10.000    564.300  ...   2035.000     0.000   0.000    32.100   \n",
       "5     69.000 -80.000     85.000  ...   1594.300   -48.400   0.000   -28.500   \n",
       "6     12.000  60.000    136.100  ...   1662.600    -0.400   1.100    18.800   \n",
       "7      2.000  21.000    155.300  ...   1767.600     2.600  12.300    24.100   \n",
       "8      0.000  -1.000    177.200  ...   1748.300     0.000   0.000     3.500   \n",
       "11  1518.000   0.000   6702.000  ...  24022.000  -886.000   0.000     0.000   \n",
       "12  1419.000   0.000   7116.000  ...  24855.000 -2595.000   0.000  -569.000   \n",
       "13  1446.000   0.000  15353.000  ...  26712.000 -3402.000   0.000  -346.000   \n",
       "14  1708.000   0.000  16196.000  ...  42650.000  -956.000   0.000   330.000   \n",
       "15  2231.000   0.000  18330.000  ...  40990.000 -1674.000   0.000 -2994.000   \n",
       "16  1855.000   0.000  22489.000  ...  40180.000  -772.000   0.000  1623.000   \n",
       "17  2554.000   0.000  22511.000  ...  42207.000  -734.000   0.000  1165.000   \n",
       "18  4948.000   0.000  29081.000  ...  44541.000  -802.000   0.000   472.000   \n",
       "20     0.000   0.000     10.800  ...    140.602     0.396   1.646     1.371   \n",
       "21     0.000   0.000      9.600  ...    139.192     0.000   0.393     3.411   \n",
       "22     0.000   0.000      0.000  ...    135.052    -0.141   1.079     4.513   \n",
       "\n",
       "      xido      mkvalt  future_mkvalt  percent_change  undervalued   expenses  \n",
       "0    0.000    777.8348      1049.8206        0.349670         True   1243.600  \n",
       "1   -3.313   1049.8206       485.2897       -0.537740        False   1613.484  \n",
       "2    0.000    485.2897       790.0029        0.627900         True   1891.119  \n",
       "3    0.000    790.0029       961.3080        0.216841         True   1970.300  \n",
       "4    0.000    961.3080      1046.3954        0.088512        False   1824.100  \n",
       "5   64.700   1046.3954       842.5112       -0.194844        False   1537.300  \n",
       "6    7.200    842.5112      1200.3288        0.424704         True   1531.800  \n",
       "7    6.300   1200.3288      1551.4580        0.292528         True   1624.700  \n",
       "8  -58.100   1551.4580      1046.7709       -0.325299        False   1628.900  \n",
       "11   0.000    117.3438       266.5571        1.271591         True  24332.000  \n",
       "12   0.000    266.5571      6591.9923       23.730132         True  24528.000  \n",
       "13   0.000   6591.9923     37405.5843        4.674397         True  24573.000  \n",
       "14   0.000  37405.5843     26452.7417       -0.292813        False  37059.000  \n",
       "15   0.000  26452.7417     23685.5569       -0.104609        False  33040.000  \n",
       "16   0.000  23685.5569     24740.6812        0.044547        False  33536.000  \n",
       "17   0.000  24740.6812     14790.2192       -0.402190        False  36669.000  \n",
       "18   0.000  14790.2192     12280.8620       -0.169663        False  40294.000  \n",
       "20  -0.200     85.3412        80.5638       -0.055980        False    135.671  \n",
       "21  -0.040     80.5638       168.7421        1.094515         True    127.259  \n",
       "22   0.000    168.7421       413.2812        1.449188         True    118.183  \n",
       "\n",
       "[20 rows x 30 columns]"
      ]
     },
     "execution_count": 250,
     "metadata": {},
     "output_type": "execute_result"
    }
   ],
   "source": [
    "df.head(20)"
   ]
  },
  {
   "cell_type": "code",
   "execution_count": 251,
   "id": "5bba1704",
   "metadata": {
    "scrolled": true
   },
   "outputs": [
    {
     "data": {
      "text/plain": [
       "tic               0\n",
       "fyear             0\n",
       "act               0\n",
       "ap                0\n",
       "at                0\n",
       "ceq               0\n",
       "che               0\n",
       "dlc               0\n",
       "dlcch             0\n",
       "dltt              0\n",
       "dp                0\n",
       "dvc               0\n",
       "ib                0\n",
       "intan             0\n",
       "invt              0\n",
       "ivao              0\n",
       "lct               0\n",
       "lt                0\n",
       "ppent             0\n",
       "rect              0\n",
       "sale              0\n",
       "spi               0\n",
       "txp               0\n",
       "txt               0\n",
       "xido              0\n",
       "mkvalt            0\n",
       "future_mkvalt     0\n",
       "percent_change    0\n",
       "undervalued       0\n",
       "expenses          0\n",
       "dtype: int64"
      ]
     },
     "execution_count": 251,
     "metadata": {},
     "output_type": "execute_result"
    }
   ],
   "source": [
    "# check for any null values\n",
    "df.isnull().sum()"
   ]
  },
  {
   "cell_type": "code",
   "execution_count": 252,
   "id": "1a86df4d",
   "metadata": {},
   "outputs": [
    {
     "data": {
      "text/plain": [
       "18538"
      ]
     },
     "execution_count": 252,
     "metadata": {},
     "output_type": "execute_result"
    }
   ],
   "source": [
    "# new length of df after processing\n",
    "len(df)"
   ]
  },
  {
   "cell_type": "markdown",
   "id": "2ec346cb",
   "metadata": {},
   "source": [
    "# remove outliers"
   ]
  },
  {
   "cell_type": "code",
   "execution_count": 170,
   "id": "c22458c3",
   "metadata": {},
   "outputs": [],
   "source": [
    "original_columns = df.columns"
   ]
  },
  {
   "cell_type": "code",
   "execution_count": 172,
   "id": "944f0586",
   "metadata": {},
   "outputs": [
    {
     "name": "stdout",
     "output_type": "stream",
     "text": [
      "(18538, 57)\n",
      "Before removal of outliers (18538, 57)\n",
      "After removal of outliers (17425, 57)\n"
     ]
    }
   ],
   "source": [
    "target_cols = list(df.drop(columns = [\"fyear\", \"undervalued\",\"tic\"]).columns)\n",
    "\n",
    "z_score_cols = []\n",
    "\n",
    "# Loop through our target columns\n",
    "for col in target_cols:\n",
    "    # Make the new column name the same as the original but with 'z_score' added to it\n",
    "    new_col_name = col + \"_zscore\"\n",
    "    \n",
    "    # Set the new column equal to the score\n",
    "    df[new_col_name] = stats.zscore( df[col] )\n",
    "    \n",
    "    # Set the z-score to its absolute value of the for easier filtering\n",
    "    df[new_col_name] = abs( df[new_col_name] )\n",
    "    \n",
    "    # Append the new column name our our z_score_cols list for easier access for later.\n",
    "    z_score_cols.append(new_col_name)\n",
    "\n",
    "\n",
    "condition = df[z_score_cols] < 3\n",
    "print(df.shape)\n",
    "\n",
    "# # Say TRUE only if all of the rows are True, else return False\n",
    "condition = condition.all(axis=1)\n",
    "\n",
    "print('Before removal of outliers', df.shape)\n",
    "\n",
    "df = df[condition]\n",
    "\n",
    "print('After removal of outliers', df.shape)"
   ]
  },
  {
   "cell_type": "code",
   "execution_count": 173,
   "id": "89bf558c",
   "metadata": {},
   "outputs": [
    {
     "data": {
      "text/plain": [
       "17425"
      ]
     },
     "execution_count": 173,
     "metadata": {},
     "output_type": "execute_result"
    }
   ],
   "source": [
    "#keep original columns only\n",
    "df = df[original_columns]\n",
    "len(df)"
   ]
  },
  {
   "cell_type": "code",
   "execution_count": 253,
   "id": "65c36833",
   "metadata": {},
   "outputs": [
    {
     "data": {
      "text/plain": [
       "Text(0.5, 0, 'Percent Increase in market value over 1 year period')"
      ]
     },
     "execution_count": 253,
     "metadata": {},
     "output_type": "execute_result"
    },
    {
     "data": {
      "image/png": "[encoded data removed]",
      "text/plain": [
       "<Figure size 432x288 with 1 Axes>"
      ]
     },
     "metadata": {},
     "output_type": "display_data"
    }
   ],
   "source": [
    "binwidth=0.1\n",
    "    \n",
    "# Set up the plot\n",
    "plot = plt.subplot(1, 1, 1 )\n",
    "    \n",
    "# Draw the plot\n",
    "plot.hist(df['percent_change']*100, bins = int(180/binwidth),\n",
    "             color = 'blue', edgecolor = 'black')\n",
    "    \n",
    "    # Title and labels\n",
    "plt.xlim(-110, 350)\n",
    "plot.set_xlabel('Percent Increase in market value over 1 year period', size = 10)"
   ]
  },
  {
   "cell_type": "code",
   "execution_count": 254,
   "id": "7367722d",
   "metadata": {},
   "outputs": [],
   "source": [
    "#remove outliers\n",
    "condition1 = df['percent_change'] < 1\n",
    "df = df[condition1]"
   ]
  },
  {
   "cell_type": "code",
   "execution_count": 255,
   "id": "a36b37cf",
   "metadata": {},
   "outputs": [
    {
     "data": {
      "text/plain": [
       "Text(0.5, 0, 'Percent Increase in market value over 1 year period')"
      ]
     },
     "execution_count": 255,
     "metadata": {},
     "output_type": "execute_result"
    },
    {
     "data": {
      "image/png": "[encoded data removed]",
      "text/plain": [
       "<Figure size 432x288 with 1 Axes>"
      ]
     },
     "metadata": {},
     "output_type": "display_data"
    }
   ],
   "source": [
    "#replot\n",
    "binwidth=5\n",
    "    \n",
    "# Set up the plot\n",
    "plot = plt.subplot(1, 1, 1 )\n",
    "plot.hist(df['percent_change']*100, bins = int(180/binwidth),\n",
    "             color = 'blue', edgecolor = 'black')\n",
    "    \n",
    "#Title and labels\n",
    "plt.xlim(-110, 100)\n",
    "plot.set_xlabel('Percent Increase in market value over 1 year period', size = 10)"
   ]
  },
  {
   "cell_type": "markdown",
   "id": "4240e301",
   "metadata": {},
   "source": [
    "# visualize the data"
   ]
  },
  {
   "cell_type": "code",
   "execution_count": 205,
   "id": "78c6ec1e",
   "metadata": {},
   "outputs": [
    {
     "data": {
      "text/plain": [
       "array([[<AxesSubplot: title={'center': 'fyear'}>,\n",
       "        <AxesSubplot: title={'center': 'act'}>,\n",
       "        <AxesSubplot: title={'center': 'ap'}>,\n",
       "        <AxesSubplot: title={'center': 'at'}>,\n",
       "        <AxesSubplot: title={'center': 'ceq'}>],\n",
       "       [<AxesSubplot: title={'center': 'che'}>,\n",
       "        <AxesSubplot: title={'center': 'dlc'}>,\n",
       "        <AxesSubplot: title={'center': 'dlcch'}>,\n",
       "        <AxesSubplot: title={'center': 'dltt'}>,\n",
       "        <AxesSubplot: title={'center': 'dp'}>],\n",
       "       [<AxesSubplot: title={'center': 'dvc'}>,\n",
       "        <AxesSubplot: title={'center': 'ib'}>,\n",
       "        <AxesSubplot: title={'center': 'intan'}>,\n",
       "        <AxesSubplot: title={'center': 'invt'}>,\n",
       "        <AxesSubplot: title={'center': 'ivao'}>],\n",
       "       [<AxesSubplot: title={'center': 'lct'}>,\n",
       "        <AxesSubplot: title={'center': 'lt'}>,\n",
       "        <AxesSubplot: title={'center': 'ppent'}>,\n",
       "        <AxesSubplot: title={'center': 'rect'}>,\n",
       "        <AxesSubplot: title={'center': 'sale'}>],\n",
       "       [<AxesSubplot: title={'center': 'spi'}>,\n",
       "        <AxesSubplot: title={'center': 'txp'}>,\n",
       "        <AxesSubplot: title={'center': 'txt'}>,\n",
       "        <AxesSubplot: title={'center': 'xido'}>,\n",
       "        <AxesSubplot: title={'center': 'mkvalt'}>],\n",
       "       [<AxesSubplot: title={'center': 'future_mkvalt'}>,\n",
       "        <AxesSubplot: title={'center': 'percent_change'}>,\n",
       "        <AxesSubplot: title={'center': 'expenses'}>, <AxesSubplot: >,\n",
       "        <AxesSubplot: >]], dtype=object)"
      ]
     },
     "execution_count": 205,
     "metadata": {},
     "output_type": "execute_result"
    },
    {
     "data": {
      "image/png": "[encoded data removed]",
      "text/plain": [
       "<Figure size 1800x1440 with 30 Axes>"
      ]
     },
     "metadata": {},
     "output_type": "display_data"
    }
   ],
   "source": [
    "df.hist(bins = 25 ,figsize = (25,20))"
   ]
  },
  {
   "cell_type": "markdown",
   "id": "1cf88f68",
   "metadata": {},
   "source": [
    "# Feature engineering"
   ]
  },
  {
   "cell_type": "code",
   "execution_count": 256,
   "id": "4c7b7805",
   "metadata": {},
   "outputs": [],
   "source": [
    "#feature selection \n",
    "from sklearn.feature_selection import SelectKBest, f_classif,f_regression\n",
    "\n",
    "# selected features and predict value\n",
    "Features = list(df.drop(columns=['tic', 'fyear', 'undervalued','percent_change']).columns)\n",
    "X = df[Features]\n",
    "y = df['future_mkvalt']\n",
    "\n",
    "#find best features\n",
    "fs = SelectKBest(score_func=f_regression)\n",
    "\n",
    "X_selected = fs.fit_transform(X,y)"
   ]
  },
  {
   "cell_type": "code",
   "execution_count": 257,
   "id": "ba187f40",
   "metadata": {},
   "outputs": [],
   "source": [
    "# best features according to pearson test \n",
    "selected_features = fs.get_feature_names_out()\n",
    "X = df[selected_features]"
   ]
  },
  {
   "cell_type": "code",
   "execution_count": 258,
   "id": "1521a825",
   "metadata": {},
   "outputs": [
    {
     "data": {
      "text/plain": [
       "array([1.37983202e+01, 2.47752084e+00, 9.25971057e+00, 3.85450252e+00,\n",
       "       1.22446702e+01, 2.18278842e+00, 1.22657359e+00, 1.07232518e+01,\n",
       "       2.26788849e+00, 6.35306966e+00, 6.86617807e+00, 8.82176327e+00,\n",
       "       3.23074298e+00, 1.68063219e+00, 1.03395956e+01, 1.16114517e+01,\n",
       "       8.48205250e-01, 5.73845376e+00, 6.60528641e+00, 4.20827715e+00,\n",
       "       2.82782659e-02, 2.07946760e+00, 1.16013066e+00, 1.16409423e+01,\n",
       "       7.84827997e+01, 6.39848525e+00])"
      ]
     },
     "execution_count": 258,
     "metadata": {},
     "output_type": "execute_result"
    }
   ],
   "source": [
    "#print values of the features\n",
    "fs.scores_"
   ]
  },
  {
   "cell_type": "code",
   "execution_count": 259,
   "id": "be6cb309",
   "metadata": {},
   "outputs": [
    {
     "data": {
      "image/png": "[encoded data removed]",
      "text/plain": [
       "<Figure size 936x936 with 2 Axes>"
      ]
     },
     "metadata": {},
     "output_type": "display_data"
    }
   ],
   "source": [
    "#create heatmap showing which values correlate most with undervalued helps select features\n",
    "\n",
    "def create_corr_matrix(column_name):\n",
    "    corr_mat = df.corr()\n",
    "\n",
    "    corr_targ = corr_mat[[column_name]].drop(labels=[column_name])\n",
    "    fig, ax = plt.subplots(figsize = (13,13))\n",
    "    sns.heatmap(corr_targ, annot= True, fmt='.3',cmap='RdBu_r')\n",
    "    plt.show()\n",
    "    \n",
    "\n",
    "create_corr_matrix(\"percent_change\")"
   ]
  },
  {
   "cell_type": "markdown",
   "id": "a6e77a17",
   "metadata": {},
   "source": [
    "# Model building and evaluation"
   ]
  },
  {
   "cell_type": "code",
   "execution_count": 281,
   "id": "c7450c0c",
   "metadata": {},
   "outputs": [],
   "source": [
    "# Create training and test set from data \n",
    "\n",
    "# X_train, X_test, y_train, y_test = train_test_split(X_selected, y, test_size=0.2, random_state=45)\n",
    "\n",
    "# split training and testing data like this so no data leakage\n",
    "X_train = X.iloc[3800:]\n",
    "X_test = X.iloc[:3800]\n",
    "y_train = y.iloc[3800:]\n",
    "y_test = y.iloc[:3800]"
   ]
  },
  {
   "cell_type": "code",
   "execution_count": 282,
   "id": "6d045532",
   "metadata": {},
   "outputs": [],
   "source": [
    "# build pipline which evaluates models \n",
    "def build_and_eval_regression_model(model,X,y):\n",
    "    print(\"running model report\",model)\n",
    "    \n",
    "    X_train = X.iloc[3800:]\n",
    "    X_test = X.iloc[:3800]\n",
    "    y_train = y.iloc[3800:]\n",
    "    y_test = y.iloc[:3800]\n",
    "    \n",
    "    scaler = StandardScaler()\n",
    "    X_train_scaled = scaler.fit_transform(X_train)\n",
    "    X_test_scaled = scaler.transform(X_test)\n",
    "    \n",
    "    model.fit(X_train_scaled,y_train)\n",
    "    \n",
    "    y_pred = model.predict(X_test_scaled)\n",
    "    \n",
    "    r_squared = metrics.r2_score(y_test,y_pred)\n",
    "    print(\"R-squared score:\",r_squared)\n",
    "    \n",
    "    mea = metrics.mean_absolute_error(y_test,y_pred)\n",
    "    print(\"\\nMean Absolute Error:\",mea)\n",
    "    \n",
    "    mse = metrics.mean_squared_error(y_test,y_pred)\n",
    "    \n",
    "    print(\"\\nMean squared Error:\",mse)\n",
    "\n",
    "def build_and_eval_classification_model(model,X,y):\n",
    "    print(\"running model report\",model)\n",
    "    X_train = X.iloc[3800:]\n",
    "    X_test = X.iloc[:3800]\n",
    "    y_train = y.iloc[3800:]\n",
    "    y_test = y.iloc[:3800]\n",
    "    \n",
    "    scaler = StandardScaler()\n",
    "    X_train_scaled = scaler.fit_transform(X_train)\n",
    "    X_test_scaled = scaler.transform(X_test)\n",
    "    \n",
    "    model.fit(X_train_scaled,y_train)\n",
    "    \n",
    "    model.predict(X_test_scaled)\n",
    "    \n",
    "    accuracy = accuracy_score(y_test,y_pred)\n",
    "    print(\"\\nAccuracy Score: %f\" % accuracy)\n",
    "\n",
    "    precision = precision_score(y_test,y_pred)\n",
    "    print(\"Precision Score: %f\" % precision)\n",
    "\n",
    "    recall = recall_score(y_test,y_pred)\n",
    "    print(\"Recall Score: %f\" % recall)\n",
    "\n",
    "    f1 = f1_score(y_test,y_pred)\n",
    "    print('F1 Score: %f' % f1)\n",
    "\n",
    "    # Calculate predicted probabilities\n",
    "    y_pred_proba = model.predict_proba(X_test)\n",
    "\n",
    "    # Keep only the proba for True\n",
    "    y_pred_proba = y_pred_proba[:,1]\n",
    "\n",
    "    # Compute auc score\n",
    "    auc = roc_auc_score(y_true = y_test, y_score = y_pred_proba )\n",
    "    print('AUC Score: %f' % auc)"
   ]
  },
  {
   "cell_type": "code",
   "execution_count": 283,
   "id": "2a47710f",
   "metadata": {},
   "outputs": [
    {
     "ename": "ValueError",
     "evalue": "\nAll the 648 fits failed.\nIt is very likely that your model is misconfigured.\nYou can try to debug the error by setting error_score='raise'.\n\nBelow are more details about the failures:\n--------------------------------------------------------------------------------\n324 fits failed with the following error:\nTraceback (most recent call last):\n  File \"/Library/Frameworks/Python.framework/Versions/3.9/lib/python3.9/site-packages/sklearn/model_selection/_validation.py\", line 686, in _fit_and_score\n    estimator.fit(X_train, y_train, **fit_params)\n  File \"/Library/Frameworks/Python.framework/Versions/3.9/lib/python3.9/site-packages/sklearn/tree/_classes.py\", line 1342, in fit\n    super().fit(\n  File \"/Library/Frameworks/Python.framework/Versions/3.9/lib/python3.9/site-packages/sklearn/tree/_classes.py\", line 394, in fit\n    criterion = CRITERIA_REG[self.criterion](self.n_outputs_, n_samples)\nKeyError: 'gini'\n\n--------------------------------------------------------------------------------\n324 fits failed with the following error:\nTraceback (most recent call last):\n  File \"/Library/Frameworks/Python.framework/Versions/3.9/lib/python3.9/site-packages/sklearn/model_selection/_validation.py\", line 686, in _fit_and_score\n    estimator.fit(X_train, y_train, **fit_params)\n  File \"/Library/Frameworks/Python.framework/Versions/3.9/lib/python3.9/site-packages/sklearn/tree/_classes.py\", line 1342, in fit\n    super().fit(\n  File \"/Library/Frameworks/Python.framework/Versions/3.9/lib/python3.9/site-packages/sklearn/tree/_classes.py\", line 394, in fit\n    criterion = CRITERIA_REG[self.criterion](self.n_outputs_, n_samples)\nKeyError: 'entropy'\n",
     "output_type": "error",
     "traceback": [
      "\u001b[0;31m---------------------------------------------------------------------------\u001b[0m",
      "\u001b[0;31mValueError\u001b[0m                                Traceback (most recent call last)",
      "Input \u001b[0;32mIn [283]\u001b[0m, in \u001b[0;36m<cell line: 21>\u001b[0;34m()\u001b[0m\n\u001b[1;32m     10\u001b[0m params \u001b[38;5;241m=\u001b[39m {\u001b[38;5;124m'\u001b[39m\u001b[38;5;124mcriterion\u001b[39m\u001b[38;5;124m'\u001b[39m: [\u001b[38;5;124m'\u001b[39m\u001b[38;5;124mgini\u001b[39m\u001b[38;5;124m'\u001b[39m, \u001b[38;5;124m'\u001b[39m\u001b[38;5;124mentropy\u001b[39m\u001b[38;5;124m'\u001b[39m],\n\u001b[1;32m     11\u001b[0m         \u001b[38;5;124m'\u001b[39m\u001b[38;5;124mmax_depth\u001b[39m\u001b[38;5;124m'\u001b[39m: [\u001b[38;5;241m3\u001b[39m,\u001b[38;5;241m5\u001b[39m,\u001b[38;5;241m7\u001b[39m],\n\u001b[1;32m     12\u001b[0m         \u001b[38;5;124m'\u001b[39m\u001b[38;5;124mmin_samples_leaf\u001b[39m\u001b[38;5;124m'\u001b[39m: [\u001b[38;5;241m5\u001b[39m,\u001b[38;5;241m10\u001b[39m, \u001b[38;5;241m25\u001b[39m],\n\u001b[1;32m     13\u001b[0m         \u001b[38;5;124m'\u001b[39m\u001b[38;5;124mmin_samples_split\u001b[39m\u001b[38;5;124m'\u001b[39m: [\u001b[38;5;241m8\u001b[39m, \u001b[38;5;241m10\u001b[39m, \u001b[38;5;241m12\u001b[39m],\n\u001b[1;32m     14\u001b[0m         \u001b[38;5;124m'\u001b[39m\u001b[38;5;124mmax_features\u001b[39m\u001b[38;5;124m'\u001b[39m : [\u001b[38;5;241m2\u001b[39m,\u001b[38;5;241m6\u001b[39m,\u001b[38;5;241m8\u001b[39m,\u001b[38;5;28;01mNone\u001b[39;00m]\n\u001b[1;32m     15\u001b[0m           }\n\u001b[1;32m     17\u001b[0m gs \u001b[38;5;241m=\u001b[39m GridSearchCV(estimator\u001b[38;5;241m=\u001b[39mDT_model,\n\u001b[1;32m     18\u001b[0m                       param_grid\u001b[38;5;241m=\u001b[39mparams,cv\u001b[38;5;241m=\u001b[39m\u001b[38;5;241m3\u001b[39m,\n\u001b[1;32m     19\u001b[0m                      refit\u001b[38;5;241m=\u001b[39m\u001b[38;5;28;01mTrue\u001b[39;00m)\n\u001b[0;32m---> 21\u001b[0m \u001b[43mgs\u001b[49m\u001b[38;5;241;43m.\u001b[39;49m\u001b[43mfit\u001b[49m\u001b[43m(\u001b[49m\u001b[43mX_train_scaled\u001b[49m\u001b[43m,\u001b[49m\u001b[43m \u001b[49m\u001b[43my_train\u001b[49m\u001b[43m)\u001b[49m\n\u001b[1;32m     22\u001b[0m gs\u001b[38;5;241m.\u001b[39mbest_params_\n",
      "File \u001b[0;32m/Library/Frameworks/Python.framework/Versions/3.9/lib/python3.9/site-packages/sklearn/model_selection/_search.py:875\u001b[0m, in \u001b[0;36mBaseSearchCV.fit\u001b[0;34m(self, X, y, groups, **fit_params)\u001b[0m\n\u001b[1;32m    869\u001b[0m     results \u001b[38;5;241m=\u001b[39m \u001b[38;5;28mself\u001b[39m\u001b[38;5;241m.\u001b[39m_format_results(\n\u001b[1;32m    870\u001b[0m         all_candidate_params, n_splits, all_out, all_more_results\n\u001b[1;32m    871\u001b[0m     )\n\u001b[1;32m    873\u001b[0m     \u001b[38;5;28;01mreturn\u001b[39;00m results\n\u001b[0;32m--> 875\u001b[0m \u001b[38;5;28;43mself\u001b[39;49m\u001b[38;5;241;43m.\u001b[39;49m\u001b[43m_run_search\u001b[49m\u001b[43m(\u001b[49m\u001b[43mevaluate_candidates\u001b[49m\u001b[43m)\u001b[49m\n\u001b[1;32m    877\u001b[0m \u001b[38;5;66;03m# multimetric is determined here because in the case of a callable\u001b[39;00m\n\u001b[1;32m    878\u001b[0m \u001b[38;5;66;03m# self.scoring the return type is only known after calling\u001b[39;00m\n\u001b[1;32m    879\u001b[0m first_test_score \u001b[38;5;241m=\u001b[39m all_out[\u001b[38;5;241m0\u001b[39m][\u001b[38;5;124m\"\u001b[39m\u001b[38;5;124mtest_scores\u001b[39m\u001b[38;5;124m\"\u001b[39m]\n",
      "File \u001b[0;32m/Library/Frameworks/Python.framework/Versions/3.9/lib/python3.9/site-packages/sklearn/model_selection/_search.py:1379\u001b[0m, in \u001b[0;36mGridSearchCV._run_search\u001b[0;34m(self, evaluate_candidates)\u001b[0m\n\u001b[1;32m   1377\u001b[0m \u001b[38;5;28;01mdef\u001b[39;00m \u001b[38;5;21m_run_search\u001b[39m(\u001b[38;5;28mself\u001b[39m, evaluate_candidates):\n\u001b[1;32m   1378\u001b[0m     \u001b[38;5;124;03m\"\"\"Search all candidates in param_grid\"\"\"\u001b[39;00m\n\u001b[0;32m-> 1379\u001b[0m     \u001b[43mevaluate_candidates\u001b[49m\u001b[43m(\u001b[49m\u001b[43mParameterGrid\u001b[49m\u001b[43m(\u001b[49m\u001b[38;5;28;43mself\u001b[39;49m\u001b[38;5;241;43m.\u001b[39;49m\u001b[43mparam_grid\u001b[49m\u001b[43m)\u001b[49m\u001b[43m)\u001b[49m\n",
      "File \u001b[0;32m/Library/Frameworks/Python.framework/Versions/3.9/lib/python3.9/site-packages/sklearn/model_selection/_search.py:852\u001b[0m, in \u001b[0;36mBaseSearchCV.fit.<locals>.evaluate_candidates\u001b[0;34m(candidate_params, cv, more_results)\u001b[0m\n\u001b[1;32m    845\u001b[0m \u001b[38;5;28;01melif\u001b[39;00m \u001b[38;5;28mlen\u001b[39m(out) \u001b[38;5;241m!=\u001b[39m n_candidates \u001b[38;5;241m*\u001b[39m n_splits:\n\u001b[1;32m    846\u001b[0m     \u001b[38;5;28;01mraise\u001b[39;00m \u001b[38;5;167;01mValueError\u001b[39;00m(\n\u001b[1;32m    847\u001b[0m         \u001b[38;5;124m\"\u001b[39m\u001b[38;5;124mcv.split and cv.get_n_splits returned \u001b[39m\u001b[38;5;124m\"\u001b[39m\n\u001b[1;32m    848\u001b[0m         \u001b[38;5;124m\"\u001b[39m\u001b[38;5;124minconsistent results. Expected \u001b[39m\u001b[38;5;132;01m{}\u001b[39;00m\u001b[38;5;124m \u001b[39m\u001b[38;5;124m\"\u001b[39m\n\u001b[1;32m    849\u001b[0m         \u001b[38;5;124m\"\u001b[39m\u001b[38;5;124msplits, got \u001b[39m\u001b[38;5;132;01m{}\u001b[39;00m\u001b[38;5;124m\"\u001b[39m\u001b[38;5;241m.\u001b[39mformat(n_splits, \u001b[38;5;28mlen\u001b[39m(out) \u001b[38;5;241m/\u001b[39m\u001b[38;5;241m/\u001b[39m n_candidates)\n\u001b[1;32m    850\u001b[0m     )\n\u001b[0;32m--> 852\u001b[0m \u001b[43m_warn_or_raise_about_fit_failures\u001b[49m\u001b[43m(\u001b[49m\u001b[43mout\u001b[49m\u001b[43m,\u001b[49m\u001b[43m \u001b[49m\u001b[38;5;28;43mself\u001b[39;49m\u001b[38;5;241;43m.\u001b[39;49m\u001b[43merror_score\u001b[49m\u001b[43m)\u001b[49m\n\u001b[1;32m    854\u001b[0m \u001b[38;5;66;03m# For callable self.scoring, the return type is only know after\u001b[39;00m\n\u001b[1;32m    855\u001b[0m \u001b[38;5;66;03m# calling. If the return type is a dictionary, the error scores\u001b[39;00m\n\u001b[1;32m    856\u001b[0m \u001b[38;5;66;03m# can now be inserted with the correct key. The type checking\u001b[39;00m\n\u001b[1;32m    857\u001b[0m \u001b[38;5;66;03m# of out will be done in `_insert_error_scores`.\u001b[39;00m\n\u001b[1;32m    858\u001b[0m \u001b[38;5;28;01mif\u001b[39;00m callable(\u001b[38;5;28mself\u001b[39m\u001b[38;5;241m.\u001b[39mscoring):\n",
      "File \u001b[0;32m/Library/Frameworks/Python.framework/Versions/3.9/lib/python3.9/site-packages/sklearn/model_selection/_validation.py:367\u001b[0m, in \u001b[0;36m_warn_or_raise_about_fit_failures\u001b[0;34m(results, error_score)\u001b[0m\n\u001b[1;32m    360\u001b[0m \u001b[38;5;28;01mif\u001b[39;00m num_failed_fits \u001b[38;5;241m==\u001b[39m num_fits:\n\u001b[1;32m    361\u001b[0m     all_fits_failed_message \u001b[38;5;241m=\u001b[39m (\n\u001b[1;32m    362\u001b[0m         \u001b[38;5;124mf\u001b[39m\u001b[38;5;124m\"\u001b[39m\u001b[38;5;130;01m\\n\u001b[39;00m\u001b[38;5;124mAll the \u001b[39m\u001b[38;5;132;01m{\u001b[39;00mnum_fits\u001b[38;5;132;01m}\u001b[39;00m\u001b[38;5;124m fits failed.\u001b[39m\u001b[38;5;130;01m\\n\u001b[39;00m\u001b[38;5;124m\"\u001b[39m\n\u001b[1;32m    363\u001b[0m         \u001b[38;5;124m\"\u001b[39m\u001b[38;5;124mIt is very likely that your model is misconfigured.\u001b[39m\u001b[38;5;130;01m\\n\u001b[39;00m\u001b[38;5;124m\"\u001b[39m\n\u001b[1;32m    364\u001b[0m         \u001b[38;5;124m\"\u001b[39m\u001b[38;5;124mYou can try to debug the error by setting error_score=\u001b[39m\u001b[38;5;124m'\u001b[39m\u001b[38;5;124mraise\u001b[39m\u001b[38;5;124m'\u001b[39m\u001b[38;5;124m.\u001b[39m\u001b[38;5;130;01m\\n\u001b[39;00m\u001b[38;5;130;01m\\n\u001b[39;00m\u001b[38;5;124m\"\u001b[39m\n\u001b[1;32m    365\u001b[0m         \u001b[38;5;124mf\u001b[39m\u001b[38;5;124m\"\u001b[39m\u001b[38;5;124mBelow are more details about the failures:\u001b[39m\u001b[38;5;130;01m\\n\u001b[39;00m\u001b[38;5;132;01m{\u001b[39;00mfit_errors_summary\u001b[38;5;132;01m}\u001b[39;00m\u001b[38;5;124m\"\u001b[39m\n\u001b[1;32m    366\u001b[0m     )\n\u001b[0;32m--> 367\u001b[0m     \u001b[38;5;28;01mraise\u001b[39;00m \u001b[38;5;167;01mValueError\u001b[39;00m(all_fits_failed_message)\n\u001b[1;32m    369\u001b[0m \u001b[38;5;28;01melse\u001b[39;00m:\n\u001b[1;32m    370\u001b[0m     some_fits_failed_message \u001b[38;5;241m=\u001b[39m (\n\u001b[1;32m    371\u001b[0m         \u001b[38;5;124mf\u001b[39m\u001b[38;5;124m\"\u001b[39m\u001b[38;5;130;01m\\n\u001b[39;00m\u001b[38;5;132;01m{\u001b[39;00mnum_failed_fits\u001b[38;5;132;01m}\u001b[39;00m\u001b[38;5;124m fits failed out of a total of \u001b[39m\u001b[38;5;132;01m{\u001b[39;00mnum_fits\u001b[38;5;132;01m}\u001b[39;00m\u001b[38;5;124m.\u001b[39m\u001b[38;5;130;01m\\n\u001b[39;00m\u001b[38;5;124m\"\u001b[39m\n\u001b[1;32m    372\u001b[0m         \u001b[38;5;124m\"\u001b[39m\u001b[38;5;124mThe score on these train-test partitions for these parameters\u001b[39m\u001b[38;5;124m\"\u001b[39m\n\u001b[0;32m   (...)\u001b[0m\n\u001b[1;32m    376\u001b[0m         \u001b[38;5;124mf\u001b[39m\u001b[38;5;124m\"\u001b[39m\u001b[38;5;124mBelow are more details about the failures:\u001b[39m\u001b[38;5;130;01m\\n\u001b[39;00m\u001b[38;5;132;01m{\u001b[39;00mfit_errors_summary\u001b[38;5;132;01m}\u001b[39;00m\u001b[38;5;124m\"\u001b[39m\n\u001b[1;32m    377\u001b[0m     )\n",
      "\u001b[0;31mValueError\u001b[0m: \nAll the 648 fits failed.\nIt is very likely that your model is misconfigured.\nYou can try to debug the error by setting error_score='raise'.\n\nBelow are more details about the failures:\n--------------------------------------------------------------------------------\n324 fits failed with the following error:\nTraceback (most recent call last):\n  File \"/Library/Frameworks/Python.framework/Versions/3.9/lib/python3.9/site-packages/sklearn/model_selection/_validation.py\", line 686, in _fit_and_score\n    estimator.fit(X_train, y_train, **fit_params)\n  File \"/Library/Frameworks/Python.framework/Versions/3.9/lib/python3.9/site-packages/sklearn/tree/_classes.py\", line 1342, in fit\n    super().fit(\n  File \"/Library/Frameworks/Python.framework/Versions/3.9/lib/python3.9/site-packages/sklearn/tree/_classes.py\", line 394, in fit\n    criterion = CRITERIA_REG[self.criterion](self.n_outputs_, n_samples)\nKeyError: 'gini'\n\n--------------------------------------------------------------------------------\n324 fits failed with the following error:\nTraceback (most recent call last):\n  File \"/Library/Frameworks/Python.framework/Versions/3.9/lib/python3.9/site-packages/sklearn/model_selection/_validation.py\", line 686, in _fit_and_score\n    estimator.fit(X_train, y_train, **fit_params)\n  File \"/Library/Frameworks/Python.framework/Versions/3.9/lib/python3.9/site-packages/sklearn/tree/_classes.py\", line 1342, in fit\n    super().fit(\n  File \"/Library/Frameworks/Python.framework/Versions/3.9/lib/python3.9/site-packages/sklearn/tree/_classes.py\", line 394, in fit\n    criterion = CRITERIA_REG[self.criterion](self.n_outputs_, n_samples)\nKeyError: 'entropy'\n"
     ]
    }
   ],
   "source": [
    "# choose model and hyperparameters then run a grids search to find best paramaters\n",
    "scaler = StandardScaler()\n",
    "X_train_scaled = scaler.fit_transform(X_train)\n",
    "X_test_scaled = scaler.transform(X_test)\n",
    "\n",
    "DT_model = DecisionTreeRegressor()\n",
    "\n",
    "\n",
    "\n",
    "params = {'criterion': ['gini', 'entropy'],\n",
    "        'max_depth': [3,5,7],\n",
    "        'min_samples_leaf': [5,10, 25],\n",
    "        'min_samples_split': [8, 10, 12],\n",
    "        'max_features' : [2,6,8,None]\n",
    "          }\n",
    "\n",
    "gs = GridSearchCV(estimator=DT_model,\n",
    "                      param_grid=params,cv=3,\n",
    "                     refit=True)\n",
    "\n",
    "gs.fit(X_train_scaled, y_train)\n",
    "gs.best_params_"
   ]
  },
  {
   "cell_type": "code",
   "execution_count": 272,
   "id": "0e6221f6",
   "metadata": {},
   "outputs": [
    {
     "name": "stdout",
     "output_type": "stream",
     "text": [
      "running model report RandomForestRegressor(max_depth=7, max_features=None, min_samples_leaf=10,\n",
      "                      min_samples_split=10)\n",
      "R-squared score: 0.5533401674954925\n",
      "\n",
      "Mean Absolute Error: 0.13904465657050488\n",
      "\n",
      "Mean squared Error: 0.04112704899650013\n"
     ]
    }
   ],
   "source": [
    "# train model using best parameters then test scores\n",
    "rf = RandomForestRegressor(max_depth=7, max_features=None, min_samples_leaf=10,\n",
    "                           min_samples_split=10, n_estimators=100)\n",
    "build_and_eval_regression_model(rf,X,y)"
   ]
  },
  {
   "cell_type": "code",
   "execution_count": 214,
   "id": "0c1497b6",
   "metadata": {},
   "outputs": [
    {
     "name": "stdout",
     "output_type": "stream",
     "text": [
      "running model report LinearRegression()\n",
      "R-squared score: -0.1300158536399787\n",
      "\n",
      "Mean Absolute Error: 0.22252625645512233\n",
      "\n",
      "Mean squared Error: 0.10404834730466687\n"
     ]
    }
   ],
   "source": [
    "# linear regression\n",
    "lr = LinearRegression()\n",
    "build_and_eval_regression_model(lr,X,y)"
   ]
  },
  {
   "cell_type": "code",
   "execution_count": 238,
   "id": "65403763",
   "metadata": {},
   "outputs": [
    {
     "name": "stdout",
     "output_type": "stream",
     "text": [
      "running model report KNeighborsRegressor(n_neighbors=15)\n",
      "R-squared score: 0.15110753941891242\n",
      "\n",
      "Mean Absolute Error: 0.21233289612176476\n",
      "\n",
      "Mean squared Error: 0.07816337910511716\n"
     ]
    }
   ],
   "source": [
    "# Knn Regressor \n",
    "k = 15\n",
    "knnreg = KNeighborsRegressor(n_neighbors= k )\n",
    "build_and_eval_regression_model(knnreg,X,y)"
   ]
  },
  {
   "cell_type": "code",
   "execution_count": 264,
   "id": "ce56c51f",
   "metadata": {},
   "outputs": [
    {
     "name": "stdout",
     "output_type": "stream",
     "text": [
      "running model report RandomForestRegressor(max_depth=7, max_features=None, min_samples_leaf=10,\n",
      "                      min_samples_split=10)\n",
      "R-squared score: 0.5570780678976324\n",
      "\n",
      "Mean Absolute Error: 0.13772862005877454\n",
      "\n",
      "Mean squared Error: 0.04078287474621921\n"
     ]
    }
   ],
   "source": [
    "#decision tree regressor\n",
    "dt = gs.best_estimator_\n",
    "build_and_eval_regression_model(dt,X,y)"
   ]
  },
  {
   "cell_type": "code",
   "execution_count": 265,
   "id": "8036df85",
   "metadata": {},
   "outputs": [],
   "source": [
    "#convert predicted percent changes into undervalued or overvalued \n",
    "y_test = y.iloc[:3800]\n",
    "\n",
    "def build_model(model,X,y):\n",
    "    X_train = X.iloc[3800:]\n",
    "    X_test = X.iloc[:3800]\n",
    "    y_train = y.iloc[3800:]\n",
    "    \n",
    "    scaler = StandardScaler()\n",
    "    X_train_scaled = scaler.fit_transform(X_train)\n",
    "    X_test_scaled = scaler.transform(X_test)\n",
    "    \n",
    "    model.fit(X_train_scaled,y_train)\n",
    "    \n",
    "    y_pred = model.predict(X_test_scaled)\n",
    "    \n",
    "    return y_pred\n",
    "    \n",
    "\n",
    "def undervalued(prediction):\n",
    "    arr = np.where(prediction > .10,True,False)\n",
    "    return arr"
   ]
  },
  {
   "cell_type": "code",
   "execution_count": 266,
   "id": "774611b5",
   "metadata": {},
   "outputs": [],
   "source": [
    "# Evaluate and print model scores using accuracy, precision, recall, f1 scores, and auc scores. \n",
    "def test_regression_conversion(model,undervalued_y_test,undervalued_y_pred):\n",
    "    \n",
    "    print(\"running test for model\",model)\n",
    "    accuracy = accuracy_score(undervalued_y_test,undervalued_y_pred)\n",
    "    print(\"\\nAccuracy Score: %f\" % accuracy)\n",
    "\n",
    "    precision = precision_score(undervalued_y_test,undervalued_y_pred)\n",
    "    print(\"Precision Score: %f\" % precision)\n",
    "\n",
    "    recall = recall_score(undervalued_y_test,undervalued_y_pred)\n",
    "    print(\"Recall Score: %f\" % recall)\n",
    "\n",
    "    f1 = f1_score(undervalued_y_test,undervalued_y_pred)\n",
    "    print('F1 Score: %f' % f1)"
   ]
  },
  {
   "cell_type": "code",
   "execution_count": 267,
   "id": "7d1eb02e",
   "metadata": {},
   "outputs": [],
   "source": [
    "# y test set turned to true false for testing\n",
    "undervalued_y_test = undervalued(y_test)"
   ]
  },
  {
   "cell_type": "code",
   "execution_count": 268,
   "id": "f87bd380",
   "metadata": {},
   "outputs": [
    {
     "name": "stdout",
     "output_type": "stream",
     "text": [
      "running test for model RandomForestRegressor(max_depth=7, max_features=8, min_samples_leaf=10,\n",
      "                      min_samples_split=12, n_estimators=800)\n",
      "\n",
      "Accuracy Score: 0.741053\n",
      "Precision Score: 0.643359\n",
      "Recall Score: 0.958673\n",
      "F1 Score: 0.769986\n"
     ]
    }
   ],
   "source": [
    "#random forest test\n",
    "y_pred_rf = build_model(rf,X,y)\n",
    "undervalued_y_pred_rf = undervalued(y_pred_rf)\n",
    "\n",
    "test_regression_conversion(rf,undervalued_y_test,undervalued_y_pred_rf)"
   ]
  },
  {
   "cell_type": "code",
   "execution_count": 269,
   "id": "3fc01aae",
   "metadata": {},
   "outputs": [
    {
     "name": "stdout",
     "output_type": "stream",
     "text": [
      "running test for model LinearRegression()\n",
      "\n",
      "Accuracy Score: 0.645000\n",
      "Precision Score: 0.865347\n",
      "Recall Score: 0.254366\n",
      "F1 Score: 0.393162\n"
     ]
    }
   ],
   "source": [
    "# linear regression test\n",
    "y_pred_lr = build_model(lr,X,y)\n",
    "undervalued_y_pred_lr = undervalued(y_pred_lr)\n",
    "\n",
    "test_regression_conversion(lr,undervalued_y_test,undervalued_y_pred_lr)"
   ]
  },
  {
   "cell_type": "code",
   "execution_count": 270,
   "id": "c97ea181",
   "metadata": {},
   "outputs": [
    {
     "name": "stdout",
     "output_type": "stream",
     "text": [
      "running test for model KNeighborsRegressor(n_neighbors=15)\n",
      "\n",
      "Accuracy Score: 0.641053\n",
      "Precision Score: 0.620737\n",
      "Recall Score: 0.529686\n",
      "F1 Score: 0.571608\n"
     ]
    }
   ],
   "source": [
    "# K nearest test\n",
    "y_pred_kn = build_model(knnreg,X,y)\n",
    "undervalued_y_pred_kn = undervalued(y_pred_kn)\n",
    "\n",
    "test_regression_conversion(knnreg,undervalued_y_test,undervalued_y_pred_kn)"
   ]
  },
  {
   "cell_type": "code",
   "execution_count": 271,
   "id": "31226471",
   "metadata": {},
   "outputs": [
    {
     "name": "stdout",
     "output_type": "stream",
     "text": [
      "running test for model RandomForestRegressor(max_depth=7, max_features=None, min_samples_leaf=10,\n",
      "                      min_samples_split=10)\n",
      "\n",
      "Accuracy Score: 0.739211\n",
      "Precision Score: 0.641937\n",
      "Recall Score: 0.956927\n",
      "F1 Score: 0.768404\n"
     ]
    }
   ],
   "source": [
    "# decision Tree test\n",
    "y_pred_dt = build_model(rf,X,y)\n",
    "undervalued_y_pred_rf = undervalued(y_pred_dt)\n",
    "\n",
    "test_regression_conversion(dt,undervalued_y_test,undervalued_y_pred_rf)"
   ]
  },
  {
   "cell_type": "code",
   "execution_count": 289,
   "id": "04a3c512",
   "metadata": {},
   "outputs": [],
   "source": [
    "# find most important features\n",
    "# feature_imp = pd.DataFrame.from_dict( {'feature_importance': rf_model.feature_importances_,\n",
    "#                                        'feature':selected_features}).sort_values('feature_importance', ascending=False)\n",
    "# feature_imp"
   ]
  },
  {
   "cell_type": "code",
   "execution_count": 290,
   "id": "50fc8f1d",
   "metadata": {},
   "outputs": [],
   "source": [
    "# find the total return if you would invest in certain companies \n",
    "def find_return(df,model,y_test,undervalued_y_pred):\n",
    "    undervalued_y_pred = undervalued_y_pred.tolist()\n",
    "    gains = 0\n",
    "    investment = 0\n",
    "    arr = y_test.index\n",
    "    len(arr)\n",
    "    for i in range(len(undervalued_y_pred)):\n",
    "        if(undervalued_y_pred[i]):\n",
    "            index = arr[i]\n",
    "            investment = investment + 100\n",
    "            change = 100  + 100*(df.loc[[index]]['percent_change'].values)\n",
    "            gains = gains + change\n",
    "    \n",
    "    print(\"return for model\",model)\n",
    "    print('Initial Investment: ' + str(investment))\n",
    "    print('Total Return: ' + str(gains))\n",
    "    print('Percent increase: ' + str((gains-investment)/investment))       \n"
   ]
  },
  {
   "cell_type": "code",
   "execution_count": 294,
   "id": "4c7cd7a7",
   "metadata": {},
   "outputs": [
    {
     "name": "stdout",
     "output_type": "stream",
     "text": [
      "return for model RandomForestRegressor(max_depth=7, max_features=None, min_samples_leaf=10,\n",
      "                      min_samples_split=10)\n",
      "Initial Investment: 256100\n",
      "Total Return: [306326.86949794]\n",
      "Percent increase: [0.1961221]\n"
     ]
    }
   ],
   "source": [
    "# random forest returns \n",
    "find_return(df,rf,y_test,undervalued_y_pred_rf)"
   ]
  },
  {
   "cell_type": "code",
   "execution_count": 295,
   "id": "2798b5da",
   "metadata": {},
   "outputs": [
    {
     "name": "stdout",
     "output_type": "stream",
     "text": [
      "return for model LinearRegression()\n",
      "Initial Investment: 50500\n",
      "Total Return: [65689.12981451]\n",
      "Percent increase: [0.30077485]\n"
     ]
    }
   ],
   "source": [
    "# linear regression returns \n",
    "find_return(df,lr,y_test,undervalued_y_pred_lr)"
   ]
  },
  {
   "cell_type": "code",
   "execution_count": 296,
   "id": "1d41bad8",
   "metadata": {},
   "outputs": [
    {
     "name": "stdout",
     "output_type": "stream",
     "text": [
      "return for model KNeighborsRegressor(n_neighbors=15)\n",
      "Initial Investment: 146600\n",
      "Total Return: [175279.33971697]\n",
      "Percent increase: [0.19562988]\n"
     ]
    }
   ],
   "source": [
    "# k nearest returns \n",
    "find_return(df,knnreg,y_test,undervalued_y_pred_kn)"
   ]
  },
  {
   "cell_type": "code",
   "execution_count": null,
   "id": "bea010bd",
   "metadata": {},
   "outputs": [],
   "source": [
    "# decision tree returns \n",
    "find_return(df,rf,y_test,undervalued_y_pred_dt)"
   ]
  }
 ],
 "metadata": {
  "kernelspec": {
   "display_name": "Python 3 (ipykernel)",
   "language": "python",
   "name": "python3"
  },
  "language_info": {
   "codemirror_mode": {
    "name": "ipython",
    "version": 3
   },
   "file_extension": ".py",
   "mimetype": "text/x-python",
   "name": "python",
   "nbconvert_exporter": "python",
   "pygments_lexer": "ipython3",
   "version": "3.9.5"
  }
 },
 "nbformat": 4,
 "nbformat_minor": 5
}
