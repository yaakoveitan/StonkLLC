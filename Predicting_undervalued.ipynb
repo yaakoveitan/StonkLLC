{
 "cells": [
  {
   "cell_type": "code",
   "execution_count": 17,
   "id": "dcfdb21d",
   "metadata": {},
   "outputs": [],
   "source": [
    "import pandas as pd\n",
    "import numpy as np\n",
    "import matplotlib.pyplot as plt\n",
    "%matplotlib inline\n",
    "import seaborn as sns\n",
    "sns.set()\n",
    "\n",
    "from sklearn.preprocessing import StandardScaler\n",
    "from sklearn.model_selection import train_test_split\n",
    "from sklearn.linear_model import LogisticRegression\n",
    "from sklearn.ensemble import RandomForestClassifier\n",
    "from sklearn.tree import DecisionTreeClassifier\n",
    "\n",
    "from sklearn.model_selection import GridSearchCV\n",
    "from sklearn.neighbors import KNeighborsClassifier\n",
    "from sklearn.metrics import accuracy_score,precision_score,recall_score,f1_score,roc_auc_score\n",
    "\n",
    "import scipy.stats as stats"
   ]
  },
  {
   "cell_type": "code",
   "execution_count": 2,
   "id": "e7b85b9b",
   "metadata": {},
   "outputs": [
    {
     "data": {
      "text/plain": [
       "50560"
      ]
     },
     "execution_count": 2,
     "metadata": {},
     "output_type": "execute_result"
    }
   ],
   "source": [
    "df = pd.read_csv('stock fundamental data.csv')\n",
    "df.head()\n",
    "len(df)"
   ]
  },
  {
   "cell_type": "markdown",
   "id": "7d25a629",
   "metadata": {},
   "source": [
    "# Preprocessing data\n"
   ]
  },
  {
   "cell_type": "code",
   "execution_count": 3,
   "id": "e4fbe527",
   "metadata": {},
   "outputs": [
    {
     "data": {
      "text/plain": [
       "gvkey          0\n",
       "tic            0\n",
       "fyear         51\n",
       "indfmt         0\n",
       "consol         0\n",
       "popsrc         0\n",
       "datafmt        0\n",
       "curcd         51\n",
       "act        21788\n",
       "ap         10863\n",
       "at          6722\n",
       "ceq         6843\n",
       "che        13777\n",
       "cogs       13868\n",
       "dlc         7086\n",
       "dlcch      31465\n",
       "dltt        6884\n",
       "dp          9347\n",
       "dvc         7149\n",
       "ib          6821\n",
       "intan       7427\n",
       "invt       12160\n",
       "ivao       15275\n",
       "lct        21720\n",
       "lt          6792\n",
       "nopio      17628\n",
       "ppent       8714\n",
       "rect       14032\n",
       "sale       13865\n",
       "spi         7300\n",
       "txp        15200\n",
       "txt         6826\n",
       "xad        35615\n",
       "xido        6821\n",
       "xint       12512\n",
       "xrd        31021\n",
       "xsga       19673\n",
       "costat         0\n",
       "mkvalt     14697\n",
       "dtype: int64"
      ]
     },
     "execution_count": 3,
     "metadata": {},
     "output_type": "execute_result"
    }
   ],
   "source": [
    "# check for any null values in market value \n",
    "df.isnull().sum()"
   ]
  },
  {
   "cell_type": "code",
   "execution_count": 4,
   "id": "22b9450e",
   "metadata": {},
   "outputs": [],
   "source": [
    "#create column 'future mkvalt' that holds the market value of the next year\n",
    "condition1 = df['tic'].shift(-1) == df['tic']\n",
    "condition2 = df['fyear'].shift(-1) == df['fyear'] + 1\n",
    "df['future_mkvalt'] = np.where(condition1 & condition2, df['mkvalt'].shift(-1), np.nan)\n",
    "\n",
    "#drop nulls\n",
    "df = df.dropna(subset=['mkvalt', 'future_mkvalt'], how='all')\n",
    "\n",
    "#percent change is the percent change in market value from one year to the next\n",
    "df['percent_change'] = (df['future_mkvalt']-df['mkvalt'])/df['mkvalt']\n",
    "\n",
    "#if percent change is greater than 20%, classify as undervalued\n",
    "df['undervalued'] = (df['percent_change'] > 0.10)"
   ]
  },
  {
   "cell_type": "code",
   "execution_count": 5,
   "id": "58d85bee",
   "metadata": {},
   "outputs": [],
   "source": [
    "#fill null expenses with 0\n",
    "df['xrd'] = df['xrd'].fillna(0)\n",
    "df['xad'] = df['xad'].fillna(0)\n",
    "df['xsga'] = df['xsga'].fillna(0)\n",
    "df['xint'] = df['xint'].fillna(0)\n",
    "df['dlcch'] = df['dlcch'].fillna(0)\n",
    "\n",
    "\n",
    "\n",
    "#combine all expenses columns into one column\n",
    "expenses_list = ['xrd', 'xad', 'xsga', 'xint', 'nopio', 'cogs']\n",
    "df['expenses'] = df[expenses_list].sum(axis=1)\n",
    "\n",
    "df = df.drop(columns=expenses_list)\n",
    "\n",
    "#delete duplicate rows due to formatting\n",
    "condition = df['indfmt'] != \"FS\"\n",
    "df = df[condition]\n",
    "\n",
    "#drop unneccessary columns\n",
    "df = df.drop(columns=['indfmt', 'consol', 'popsrc', 'datafmt', 'curcd', 'gvkey', 'costat'])\n",
    "\n",
    "\n"
   ]
  },
  {
   "cell_type": "code",
   "execution_count": 7,
   "id": "f1dc2be8",
   "metadata": {},
   "outputs": [],
   "source": [
    "#remove rows with null values\n",
    "condition = df.isnull().sum(axis=1) < 1\n",
    "df = df[condition]"
   ]
  },
  {
   "cell_type": "code",
   "execution_count": 8,
   "id": "966018e4",
   "metadata": {},
   "outputs": [
    {
     "data": {
      "text/html": [
       "<div>\n",
       "<style scoped>\n",
       "    .dataframe tbody tr th:only-of-type {\n",
       "        vertical-align: middle;\n",
       "    }\n",
       "\n",
       "    .dataframe tbody tr th {\n",
       "        vertical-align: top;\n",
       "    }\n",
       "\n",
       "    .dataframe thead th {\n",
       "        text-align: right;\n",
       "    }\n",
       "</style>\n",
       "<table border=\"1\" class=\"dataframe\">\n",
       "  <thead>\n",
       "    <tr style=\"text-align: right;\">\n",
       "      <th></th>\n",
       "      <th>tic</th>\n",
       "      <th>fyear</th>\n",
       "      <th>act</th>\n",
       "      <th>ap</th>\n",
       "      <th>at</th>\n",
       "      <th>ceq</th>\n",
       "      <th>che</th>\n",
       "      <th>dlc</th>\n",
       "      <th>dlcch</th>\n",
       "      <th>dltt</th>\n",
       "      <th>...</th>\n",
       "      <th>sale</th>\n",
       "      <th>spi</th>\n",
       "      <th>txp</th>\n",
       "      <th>txt</th>\n",
       "      <th>xido</th>\n",
       "      <th>mkvalt</th>\n",
       "      <th>future_mkvalt</th>\n",
       "      <th>percent_change</th>\n",
       "      <th>undervalued</th>\n",
       "      <th>expenses</th>\n",
       "    </tr>\n",
       "  </thead>\n",
       "  <tbody>\n",
       "    <tr>\n",
       "      <th>0</th>\n",
       "      <td>AIR</td>\n",
       "      <td>2009.0</td>\n",
       "      <td>863.429</td>\n",
       "      <td>114.906</td>\n",
       "      <td>1501.042</td>\n",
       "      <td>746.906</td>\n",
       "      <td>79.370</td>\n",
       "      <td>100.833</td>\n",
       "      <td>-4.996</td>\n",
       "      <td>336.191</td>\n",
       "      <td>...</td>\n",
       "      <td>1352.151</td>\n",
       "      <td>-4.302</td>\n",
       "      <td>3.263</td>\n",
       "      <td>20.986</td>\n",
       "      <td>0.000</td>\n",
       "      <td>777.8348</td>\n",
       "      <td>1049.8206</td>\n",
       "      <td>0.349670</td>\n",
       "      <td>True</td>\n",
       "      <td>1243.600</td>\n",
       "    </tr>\n",
       "    <tr>\n",
       "      <th>1</th>\n",
       "      <td>AIR</td>\n",
       "      <td>2010.0</td>\n",
       "      <td>913.985</td>\n",
       "      <td>185.096</td>\n",
       "      <td>1703.727</td>\n",
       "      <td>835.845</td>\n",
       "      <td>57.433</td>\n",
       "      <td>114.075</td>\n",
       "      <td>54.991</td>\n",
       "      <td>329.802</td>\n",
       "      <td>...</td>\n",
       "      <td>1775.782</td>\n",
       "      <td>-1.536</td>\n",
       "      <td>0.000</td>\n",
       "      <td>35.364</td>\n",
       "      <td>-3.313</td>\n",
       "      <td>1049.8206</td>\n",
       "      <td>485.2897</td>\n",
       "      <td>-0.537740</td>\n",
       "      <td>False</td>\n",
       "      <td>1613.484</td>\n",
       "    </tr>\n",
       "    <tr>\n",
       "      <th>2</th>\n",
       "      <td>AIR</td>\n",
       "      <td>2011.0</td>\n",
       "      <td>1063.272</td>\n",
       "      <td>201.405</td>\n",
       "      <td>2195.653</td>\n",
       "      <td>864.649</td>\n",
       "      <td>67.720</td>\n",
       "      <td>122.865</td>\n",
       "      <td>0.000</td>\n",
       "      <td>669.489</td>\n",
       "      <td>...</td>\n",
       "      <td>2074.498</td>\n",
       "      <td>-13.864</td>\n",
       "      <td>0.000</td>\n",
       "      <td>25.480</td>\n",
       "      <td>0.000</td>\n",
       "      <td>485.2897</td>\n",
       "      <td>790.0029</td>\n",
       "      <td>0.627900</td>\n",
       "      <td>True</td>\n",
       "      <td>1891.119</td>\n",
       "    </tr>\n",
       "    <tr>\n",
       "      <th>3</th>\n",
       "      <td>AIR</td>\n",
       "      <td>2012.0</td>\n",
       "      <td>1033.700</td>\n",
       "      <td>149.300</td>\n",
       "      <td>2136.900</td>\n",
       "      <td>918.600</td>\n",
       "      <td>75.300</td>\n",
       "      <td>86.400</td>\n",
       "      <td>0.000</td>\n",
       "      <td>622.200</td>\n",
       "      <td>...</td>\n",
       "      <td>2167.100</td>\n",
       "      <td>-21.100</td>\n",
       "      <td>0.000</td>\n",
       "      <td>26.700</td>\n",
       "      <td>0.000</td>\n",
       "      <td>790.0029</td>\n",
       "      <td>961.3080</td>\n",
       "      <td>0.216841</td>\n",
       "      <td>True</td>\n",
       "      <td>1970.300</td>\n",
       "    </tr>\n",
       "    <tr>\n",
       "      <th>4</th>\n",
       "      <td>AIR</td>\n",
       "      <td>2013.0</td>\n",
       "      <td>1116.900</td>\n",
       "      <td>171.100</td>\n",
       "      <td>2199.500</td>\n",
       "      <td>999.500</td>\n",
       "      <td>89.200</td>\n",
       "      <td>69.700</td>\n",
       "      <td>10.000</td>\n",
       "      <td>564.300</td>\n",
       "      <td>...</td>\n",
       "      <td>2035.000</td>\n",
       "      <td>0.000</td>\n",
       "      <td>0.000</td>\n",
       "      <td>32.100</td>\n",
       "      <td>0.000</td>\n",
       "      <td>961.3080</td>\n",
       "      <td>1046.3954</td>\n",
       "      <td>0.088512</td>\n",
       "      <td>False</td>\n",
       "      <td>1824.100</td>\n",
       "    </tr>\n",
       "  </tbody>\n",
       "</table>\n",
       "<p>5 rows × 30 columns</p>\n",
       "</div>"
      ],
      "text/plain": [
       "   tic   fyear       act       ap        at      ceq     che      dlc   dlcch  \\\n",
       "0  AIR  2009.0   863.429  114.906  1501.042  746.906  79.370  100.833  -4.996   \n",
       "1  AIR  2010.0   913.985  185.096  1703.727  835.845  57.433  114.075  54.991   \n",
       "2  AIR  2011.0  1063.272  201.405  2195.653  864.649  67.720  122.865   0.000   \n",
       "3  AIR  2012.0  1033.700  149.300  2136.900  918.600  75.300   86.400   0.000   \n",
       "4  AIR  2013.0  1116.900  171.100  2199.500  999.500  89.200   69.700  10.000   \n",
       "\n",
       "      dltt  ...      sale     spi    txp     txt   xido     mkvalt  \\\n",
       "0  336.191  ...  1352.151  -4.302  3.263  20.986  0.000   777.8348   \n",
       "1  329.802  ...  1775.782  -1.536  0.000  35.364 -3.313  1049.8206   \n",
       "2  669.489  ...  2074.498 -13.864  0.000  25.480  0.000   485.2897   \n",
       "3  622.200  ...  2167.100 -21.100  0.000  26.700  0.000   790.0029   \n",
       "4  564.300  ...  2035.000   0.000  0.000  32.100  0.000   961.3080   \n",
       "\n",
       "   future_mkvalt  percent_change  undervalued  expenses  \n",
       "0      1049.8206        0.349670         True  1243.600  \n",
       "1       485.2897       -0.537740        False  1613.484  \n",
       "2       790.0029        0.627900         True  1891.119  \n",
       "3       961.3080        0.216841         True  1970.300  \n",
       "4      1046.3954        0.088512        False  1824.100  \n",
       "\n",
       "[5 rows x 30 columns]"
      ]
     },
     "execution_count": 8,
     "metadata": {},
     "output_type": "execute_result"
    }
   ],
   "source": [
    "df.head(5)"
   ]
  },
  {
   "cell_type": "code",
   "execution_count": 9,
   "id": "5bba1704",
   "metadata": {
    "scrolled": true
   },
   "outputs": [
    {
     "data": {
      "text/plain": [
       "tic               0\n",
       "fyear             0\n",
       "act               0\n",
       "ap                0\n",
       "at                0\n",
       "ceq               0\n",
       "che               0\n",
       "dlc               0\n",
       "dlcch             0\n",
       "dltt              0\n",
       "dp                0\n",
       "dvc               0\n",
       "ib                0\n",
       "intan             0\n",
       "invt              0\n",
       "ivao              0\n",
       "lct               0\n",
       "lt                0\n",
       "ppent             0\n",
       "rect              0\n",
       "sale              0\n",
       "spi               0\n",
       "txp               0\n",
       "txt               0\n",
       "xido              0\n",
       "mkvalt            0\n",
       "future_mkvalt     0\n",
       "percent_change    0\n",
       "undervalued       0\n",
       "expenses          0\n",
       "dtype: int64"
      ]
     },
     "execution_count": 9,
     "metadata": {},
     "output_type": "execute_result"
    }
   ],
   "source": [
    "# check for any null values\n",
    "df.isnull().sum()"
   ]
  },
  {
   "cell_type": "code",
   "execution_count": 9,
   "id": "1a86df4d",
   "metadata": {},
   "outputs": [
    {
     "data": {
      "text/plain": [
       "18538"
      ]
     },
     "execution_count": 9,
     "metadata": {},
     "output_type": "execute_result"
    }
   ],
   "source": [
    "# new length of df after processing\n",
    "len(df)"
   ]
  },
  {
   "cell_type": "markdown",
   "id": "1cf88f68",
   "metadata": {},
   "source": [
    "# Remove target variable outliers"
   ]
  },
  {
   "cell_type": "code",
   "execution_count": 10,
   "id": "65c36833",
   "metadata": {},
   "outputs": [
    {
     "data": {
      "text/plain": [
       "Text(0.5, 0, 'Percent Increase in market value over 1 year period')"
      ]
     },
     "execution_count": 10,
     "metadata": {},
     "output_type": "execute_result"
    },
    {
     "data": {
      "image/png": "[encoded data removed]",
      "text/plain": [
       "<Figure size 432x288 with 1 Axes>"
      ]
     },
     "metadata": {},
     "output_type": "display_data"
    }
   ],
   "source": [
    "binwidth=0.1\n",
    "    \n",
    "# Set up the plot\n",
    "plot = plt.subplot(1, 1, 1 )\n",
    "    \n",
    "# Draw the plot\n",
    "plot.hist(df['percent_change']*100, bins = int(180/binwidth),\n",
    "             color = 'blue', edgecolor = 'black')\n",
    "    \n",
    "    # Title and labels\n",
    "plt.xlim(-110, 350)\n",
    "plot.set_xlabel('Percent Increase in market value over 1 year period', size = 10)"
   ]
  },
  {
   "cell_type": "code",
   "execution_count": 11,
   "id": "7367722d",
   "metadata": {},
   "outputs": [],
   "source": [
    "#remove outliers\n",
    "condition1 = df['percent_change'] < 1\n",
    "df = df[condition1]"
   ]
  },
  {
   "cell_type": "code",
   "execution_count": 12,
   "id": "a36b37cf",
   "metadata": {
    "scrolled": true
   },
   "outputs": [
    {
     "data": {
      "text/plain": [
       "Text(0.5, 0, 'Percent Increase in market value over 1 year period')"
      ]
     },
     "execution_count": 12,
     "metadata": {},
     "output_type": "execute_result"
    },
    {
     "data": {
      "image/png": "[encoded data removed]",
      "text/plain": [
       "<Figure size 432x288 with 1 Axes>"
      ]
     },
     "metadata": {},
     "output_type": "display_data"
    }
   ],
   "source": [
    "#replot\n",
    "binwidth=5\n",
    "    \n",
    "# Set up the plot\n",
    "plot = plt.subplot(1, 1, 1 )\n",
    "plot.hist(df['percent_change']*100, bins = int(180/binwidth),\n",
    "             color = 'blue', edgecolor = 'black')\n",
    "    \n",
    "#Title and labels\n",
    "plt.xlim(-110, 100)\n",
    "plot.set_xlabel('Percent Increase in market value over 1 year period', size = 10)"
   ]
  },
  {
   "cell_type": "code",
   "execution_count": 28,
   "id": "f929ccc1",
   "metadata": {},
   "outputs": [],
   "source": [
    "Features = list(df.drop(columns=['tic', 'fyear', 'undervalued','percent_change','future_mkvalt']).columns)\n",
    "X = df[Features]\n",
    "y = df['undervalued']\n",
    "\n",
    "#split the data\n",
    "X_train = X.iloc[3800:]\n",
    "X_test = X.iloc[:3800]\n",
    "y_train = y.iloc[3800:]\n",
    "y_test = y.iloc[:3800]"
   ]
  },
  {
   "cell_type": "markdown",
   "id": "a6e77a17",
   "metadata": {},
   "source": [
    "# Functions for model evaluation and building "
   ]
  },
  {
   "cell_type": "code",
   "execution_count": 29,
   "id": "6d045532",
   "metadata": {},
   "outputs": [],
   "source": [
    "# build pipline which evaluates models \n",
    "def build_and_eval_classification_model(model, X_train, y_train, X_test, y_test):\n",
    "    \n",
    "    print(\"running model report\",model)\n",
    "    \n",
    "    scaler = StandardScaler()\n",
    "    X_train_scaled = scaler.fit_transform(X_train)\n",
    "    X_test_scaled = scaler.transform(X_test)\n",
    "    \n",
    "    model.fit(X_train_scaled,y_train)\n",
    "    \n",
    "    y_pred = model.predict(X_test_scaled)\n",
    "    \n",
    "    accuracy = accuracy_score(y_test,y_pred)\n",
    "    print(\"\\nAccuracy Score: %f\" % accuracy)\n",
    "\n",
    "    precision = precision_score(y_test,y_pred)\n",
    "    print(\"Precision Score: %f\" % precision)\n",
    "\n",
    "    recall = recall_score(y_test,y_pred)\n",
    "    print(\"Recall Score: %f\" % recall)\n",
    "\n",
    "    f1 = f1_score(y_test,y_pred)\n",
    "    print('F1 Score: %f' % f1)\n",
    "\n",
    "    # Calculate predicted probabilities\n",
    "    y_pred_proba = model.predict_proba(X_test)\n",
    "\n",
    "    # Keep only the proba for True\n",
    "    y_pred_proba = y_pred_proba[:,1]\n",
    "\n",
    "    # Compute auc score\n",
    "    auc = roc_auc_score(y_true = y_test, y_score = y_pred_proba )\n",
    "    print('AUC Score: %f' % auc)\n",
    "    \n",
    "    return y_pred"
   ]
  },
  {
   "cell_type": "code",
   "execution_count": 30,
   "id": "50fc8f1d",
   "metadata": {},
   "outputs": [],
   "source": [
    "# find the total return if you would invest in certain companies \n",
    "def find_return(model,y_test,undervalued_y_pred):\n",
    "    undervalued_y_pred = undervalued_y_pred.tolist()\n",
    "    gains = 0\n",
    "    investment = 0\n",
    "    arr = y_test.index\n",
    "    len(arr)\n",
    "    for i in range(len(undervalued_y_pred)):\n",
    "        if(undervalued_y_pred[i]):\n",
    "            index = arr[i]\n",
    "            investment = investment + 100\n",
    "            change = 100  + 100 * (df.loc[[index]]['percent_change'].values)\n",
    "            gains = gains + change\n",
    "            \n",
    "#     convert gains to list so we can remove the value for formatting\n",
    "    if model != DecisionTreeClassifier():\n",
    "        gains = gains.tolist()\n",
    "        gains = gains[0]\n",
    "    \n",
    "    \n",
    "    percent_increase = (gains - investment)/investment      \n",
    "    print(\"\\nreturn for model\",model)\n",
    "    print('Initial Investment: ${investment: .2f}'.format(investment = investment))\n",
    "    print('Total Return: ${gains: .2f}' .format(gains=gains))\n",
    "    print('Percent increase: {percent_increase: .2f}'.format(percent_increase= percent_increase))  \n",
    "   "
   ]
  },
  {
   "cell_type": "code",
   "execution_count": null,
   "id": "b9f50609",
   "metadata": {},
   "outputs": [],
   "source": [
    "# choose model and hyperparameters then run a grids search to find best paramaters\n",
    "#Grid search for decision tree\n",
    "scaler = StandardScaler()\n",
    "X_train_scaled = scaler.fit_transform(X_train)\n",
    "X_test_scaled = scaler.transform(X_test)\n",
    "\n",
    "DT_model = DecisionTreeClassifier()\n",
    "\n",
    "params = {'criterion' : ['entropy','gini'],\n",
    "        'max_depth': [3,5,7],\n",
    "        'min_samples_leaf': [5,10, 25],\n",
    "        'min_samples_split': [8, 10, 12],\n",
    "        'max_features' : [2,6,8,None]\n",
    "          }\n",
    "\n",
    "gs = GridSearchCV(estimator=DT_model,\n",
    "                      param_grid=params,cv=3,verbose=2,scoring='precision',\n",
    "                      refit=True,return_train_score=False)\n",
    "\n",
    "gs.fit(X_train_scaled, y_train)\n",
    "gs.best_params_"
   ]
  },
  {
   "cell_type": "code",
   "execution_count": null,
   "id": "ef527cc9",
   "metadata": {},
   "outputs": [],
   "source": [
    "rf_model = RandomForestClassifier()\n",
    "\n",
    "params = [{'n_estimators': [100, 200, 400],\n",
    "        'max_depth': [5, 6, 7, 8],\n",
    "        'min_samples_leaf': [3, 5, 7],\n",
    "        'min_samples_split': [8, 10, 12],\n",
    "          }]\n",
    "\n",
    "gs = GridSearchCV(rf_model,\n",
    "                      param_grid=params,\n",
    "                      scoring='precision',\n",
    "                      cv=3, verbose=2, return_train_score=False)\n",
    "gs.fit(X_train_scaled, y_train)\n",
    "gs.best_params_"
   ]
  },
  {
   "cell_type": "markdown",
   "id": "a7c2168c",
   "metadata": {},
   "source": [
    "# Build and Evaluate classification models "
   ]
  },
  {
   "cell_type": "markdown",
   "id": "0508e0cb",
   "metadata": {},
   "source": [
    "models prediction is evaluated. We then run the find return function to find what your gains would be if you would invest in the stocks that our model predicted as undervalued "
   ]
  },
  {
   "cell_type": "code",
   "execution_count": 31,
   "id": "4c7cd7a7",
   "metadata": {},
   "outputs": [
    {
     "name": "stdout",
     "output_type": "stream",
     "text": [
      "running model report RandomForestClassifier(max_depth=5, min_samples_leaf=3, min_samples_split=8,\n",
      "                       n_estimators=200)\n",
      "\n",
      "Accuracy Score: 0.547368\n",
      "Precision Score: 0.493151\n",
      "Recall Score: 0.041909\n",
      "F1 Score: 0.077253\n",
      "AUC Score: 0.516718\n",
      "\n",
      "return for model RandomForestClassifier(max_depth=5, min_samples_leaf=3, min_samples_split=8,\n",
      "                       n_estimators=200)\n",
      "Initial Investment: $ 14600.00\n",
      "Total Return: $ 16643.30\n",
      "Percent increase:  0.14\n"
     ]
    },
    {
     "name": "stderr",
     "output_type": "stream",
     "text": [
      "C:\\Users\\Captain\\anaconda3\\lib\\site-packages\\sklearn\\base.py:443: UserWarning: X has feature names, but RandomForestClassifier was fitted without feature names\n",
      "  warnings.warn(\n"
     ]
    }
   ],
   "source": [
    "# random forest test and returns \n",
    "rf = RandomForestClassifier(max_depth = 5, min_samples_leaf=3, min_samples_split=8, n_estimators=200)\n",
    "\n",
    "# evaluate model \n",
    "y_pred_rf = build_and_eval_classification_model(rf, X_train, y_train, X_test, y_test)\n",
    "# find returns \n",
    "find_return(rf,y_test,y_pred_rf)"
   ]
  },
  {
   "cell_type": "code",
   "execution_count": 32,
   "id": "2798b5da",
   "metadata": {},
   "outputs": [
    {
     "name": "stdout",
     "output_type": "stream",
     "text": [
      "running model report LogisticRegression()\n",
      "\n",
      "Accuracy Score: 0.541579\n",
      "Precision Score: 0.462963\n",
      "Recall Score: 0.087311\n",
      "F1 Score: 0.146915\n",
      "AUC Score: 0.512010\n",
      "\n",
      "return for model LogisticRegression()\n",
      "Initial Investment: $ 32400.00\n",
      "Total Return: $ 35491.15\n",
      "Percent increase:  0.10\n"
     ]
    },
    {
     "name": "stderr",
     "output_type": "stream",
     "text": [
      "C:\\Users\\Captain\\anaconda3\\lib\\site-packages\\sklearn\\base.py:443: UserWarning: X has feature names, but LogisticRegression was fitted without feature names\n",
      "  warnings.warn(\n"
     ]
    }
   ],
   "source": [
    "# logistic regression test and returns \n",
    "lr = LogisticRegression()\n",
    "\n",
    "# evaluate model \n",
    "y_pred_lr = build_and_eval_classification_model(lr, X_train, y_train, X_test, y_test)\n",
    "\n",
    "# find returns \n",
    "find_return(lr,y_test,y_pred_lr)"
   ]
  },
  {
   "cell_type": "code",
   "execution_count": 33,
   "id": "1d41bad8",
   "metadata": {},
   "outputs": [
    {
     "name": "stdout",
     "output_type": "stream",
     "text": [
      "running model report KNeighborsClassifier(n_neighbors=131)\n",
      "\n",
      "Accuracy Score: 0.536842\n",
      "Precision Score: 0.476821\n",
      "Recall Score: 0.251455\n",
      "F1 Score: 0.329268\n"
     ]
    },
    {
     "name": "stderr",
     "output_type": "stream",
     "text": [
      "C:\\Users\\Captain\\anaconda3\\lib\\site-packages\\sklearn\\base.py:443: UserWarning: X has feature names, but KNeighborsClassifier was fitted without feature names\n",
      "  warnings.warn(\n"
     ]
    },
    {
     "name": "stdout",
     "output_type": "stream",
     "text": [
      "AUC Score: 0.478753\n",
      "\n",
      "return for model KNeighborsClassifier(n_neighbors=131)\n",
      "Initial Investment: $ 90600.00\n",
      "Total Return: $ 99944.20\n",
      "Percent increase:  0.10\n"
     ]
    }
   ],
   "source": [
    "# k nearest test and returns \n",
    "k = 131\n",
    "knclas = KNeighborsClassifier(n_neighbors= k)\n",
    "\n",
    "# test conversion\n",
    "y_pred_kn = build_and_eval_classification_model(knclas, X_train, y_train, X_test, y_test)\n",
    "\n",
    "# find returns \n",
    "find_return(knclas,y_test,y_pred_kn)"
   ]
  },
  {
   "cell_type": "code",
   "execution_count": 34,
   "id": "bea010bd",
   "metadata": {},
   "outputs": [
    {
     "name": "stdout",
     "output_type": "stream",
     "text": [
      "running model report DecisionTreeClassifier(criterion='entropy', max_depth=3, max_features=8,\n",
      "                       min_samples_leaf=10, min_samples_split=12)\n",
      "\n",
      "Accuracy Score: 0.546579\n",
      "Precision Score: 0.487310\n",
      "Recall Score: 0.055879\n",
      "F1 Score: 0.100261\n",
      "AUC Score: 0.515344\n",
      "\n",
      "return for model DecisionTreeClassifier(criterion='entropy', max_depth=3, max_features=8,\n",
      "                       min_samples_leaf=10, min_samples_split=12)\n",
      "Initial Investment: $ 19700.00\n",
      "Total Return: $ 22290.10\n",
      "Percent increase:  0.13\n"
     ]
    },
    {
     "name": "stderr",
     "output_type": "stream",
     "text": [
      "C:\\Users\\Captain\\anaconda3\\lib\\site-packages\\sklearn\\base.py:443: UserWarning: X has feature names, but DecisionTreeClassifier was fitted without feature names\n",
      "  warnings.warn(\n"
     ]
    }
   ],
   "source": [
    "# decision tree test and returns \n",
    "dt = DecisionTreeClassifier(criterion='entropy', max_depth=3, max_features=8,\n",
    "                       min_samples_leaf=10, min_samples_split=12)\n",
    "\n",
    "# evaluate model  \n",
    "y_pred_dt = build_and_eval_classification_model(dt, X_train, y_train, X_test, y_test)\n",
    "\n",
    "# find returns \n",
    "find_return(dt,y_test,y_pred_dt)"
   ]
  }
 ],
 "metadata": {
  "kernelspec": {
   "display_name": "Python 3 (ipykernel)",
   "language": "python",
   "name": "python3"
  },
  "language_info": {
   "codemirror_mode": {
    "name": "ipython",
    "version": 3
   },
   "file_extension": ".py",
   "mimetype": "text/x-python",
   "name": "python",
   "nbconvert_exporter": "python",
   "pygments_lexer": "ipython3",
   "version": "3.9.12"
  }
 },
 "nbformat": 4,
 "nbformat_minor": 5
}
