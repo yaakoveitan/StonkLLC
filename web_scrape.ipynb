{
 "cells": [
  {
   "cell_type": "markdown",
   "id": "77c30ebc",
   "metadata": {},
   "source": [
    "File just to show how the web scraper works. It is used so that the user does not have to enter anything except a companys Ticker"
   ]
  },
  {
   "cell_type": "code",
   "execution_count": 8,
   "id": "bafae65d",
   "metadata": {},
   "outputs": [],
   "source": [
    "import requests\n",
    "from bs4 import BeautifulSoup\n",
    "import pandas as pd \n",
    "import yfinance as yf"
   ]
  },
  {
   "cell_type": "code",
   "execution_count": 15,
   "id": "1268cc4e",
   "metadata": {},
   "outputs": [],
   "source": [
    "def scrape_os_and_calulate_mkvalt(ticker):\n",
    "    ticker = ticker.upper()\n",
    "    try: \n",
    "        msft = yf.Ticker(ticker)\n",
    "    except:\n",
    "        print(\"The Ticker May be Delisted. Please check if the Ticker exists and make sure to enter correctly\")\n",
    "    scrape_url = 'https://finance.yahoo.com/quote'\n",
    "    ticker_url = \"{}/{}\".format(scrape_url, ticker) +'/balance-sheet?p='+ ticker\n",
    "    \n",
    "    headers={'User-Agent': 'Custom'}\n",
    "\n",
    "    response = requests.get(ticker_url,headers=headers )\n",
    "    \n",
    "    html = response.content\n",
    "    soup = BeautifulSoup(html)\n",
    "    \n",
    "    ordinary_shares = soup.find(title = \"Ordinary Shares Number\")\n",
    "    date = soup.find(class_='D(tbhg)').text\n",
    "    if len(date) == 49:\n",
    "        fyear_end_date = date[15:19] + \"-\" + date[9:11] + \"-\" + date[12:14]\n",
    "    else:\n",
    "        fyear_end_date = date[14:18] + \"-\" + date[9:10] + \"-\" + date[11:13]\n",
    "    \n",
    "    shares = []\n",
    "    for i in ordinary_shares.parent.next_siblings:\n",
    "        number = i.text.replace(\",\",'')\n",
    "        shares.append(int(number))\n",
    "    \n",
    "    most_current_fyear_ordinary_shares = shares[0] / 100 \n",
    "    \n",
    "    j = msft.history(start = fyear_end_date)\n",
    "    closing_price = j.Close.iloc[0]\n",
    "    marketvalue = closing_price * most_current_fyear_ordinary_shares\n",
    "    \n",
    "    return [marketvalue, msft]"
   ]
  },
  {
   "cell_type": "code",
   "execution_count": 28,
   "id": "aea32b22",
   "metadata": {},
   "outputs": [],
   "source": [
    "def clean_balance_sheet_for_feautures(msft, marketvalue):\n",
    "    balanceSheet = msft.balance_sheet\n",
    "    \n",
    "    balanceSheet.drop(index=['Capital Surplus','Common Stock','Inventory','Other Stockholder Equity',\n",
    "           'Property Plant Equipment','Good Will','Gains Losses Not Affecting Retained Earnings',\n",
    "                              'Total Stockholder Equity','Retained Earnings',\n",
    "                              'Long Term Investments','Net Tangible Assets','Accounts Payable',\n",
    "                              'Other Current Liab','Other Assets','Total Assets','Other Liab'],inplace = True)\n",
    "    first_col = balanceSheet.columns[0]\n",
    "    current_numbers_needed = balanceSheet[first_col]\n",
    "    current_numbers_needed = current_numbers_needed.to_dict()\n",
    "    current_numbers_needed[\"Market Value\"] = marketvalue\n",
    "    return current_numbers_needed"
   ]
  },
  {
   "cell_type": "code",
   "execution_count": 29,
   "id": "11a784d0",
   "metadata": {},
   "outputs": [],
   "source": [
    "marketvalue, msft = scrape_os_and_calulate_mkvalt('air')"
   ]
  },
  {
   "cell_type": "code",
   "execution_count": 30,
   "id": "09a94131",
   "metadata": {},
   "outputs": [
    {
     "data": {
      "text/plain": [
       "{'Intangible Assets': 25500000.0,\n",
       " 'Total Liab': 539400000.0,\n",
       " 'Other Current Assets': 21600000.0,\n",
       " 'Cash': 53500000.0,\n",
       " 'Total Current Liabilities': 348200000.0,\n",
       " 'Total Current Assets': 1007200000.0,\n",
       " 'Net Receivables': 290300000.0,\n",
       " 'Long Term Debt': 98900000.0,\n",
       " 'Market Value': 17065.540632019045}"
      ]
     },
     "execution_count": 30,
     "metadata": {},
     "output_type": "execute_result"
    }
   ],
   "source": [
    "clean_balance_sheet_for_feautures(msft,marketvalue)"
   ]
  },
  {
   "cell_type": "code",
   "execution_count": null,
   "id": "77cb3caa",
   "metadata": {},
   "outputs": [],
   "source": []
  }
 ],
 "metadata": {
  "kernelspec": {
   "display_name": "Python 3 (ipykernel)",
   "language": "python",
   "name": "python3"
  },
  "language_info": {
   "codemirror_mode": {
    "name": "ipython",
    "version": 3
   },
   "file_extension": ".py",
   "mimetype": "text/x-python",
   "name": "python",
   "nbconvert_exporter": "python",
   "pygments_lexer": "ipython3",
   "version": "3.10.8"
  }
 },
 "nbformat": 4,
 "nbformat_minor": 5
}
